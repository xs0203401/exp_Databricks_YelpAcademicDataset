{
 "cells": [
  {
   "cell_type": "markdown",
   "id": "dacdf661",
   "metadata": {},
   "source": [
    "# Using [filesplit library](https://pypi.org/project/filesplit/)"
   ]
  },
  {
   "cell_type": "markdown",
   "id": "ffe50f2b",
   "metadata": {},
   "source": [
    "# Split files"
   ]
  },
  {
   "cell_type": "code",
   "execution_count": 1,
   "id": "1e4df2cc",
   "metadata": {},
   "outputs": [],
   "source": [
    "from filesplit import merge, split\n",
    "import os"
   ]
  },
  {
   "cell_type": "code",
   "execution_count": 2,
   "id": "49ea43d1",
   "metadata": {
    "scrolled": true
   },
   "outputs": [
    {
     "data": {
      "text/plain": [
       "'/Users/henryliu/Temp00/exp_Databricks_YelpAcademicDataset'"
      ]
     },
     "execution_count": 2,
     "metadata": {},
     "output_type": "execute_result"
    }
   ],
   "source": [
    "basepath = os.path.abspath('.')\n",
    "basepath"
   ]
  },
  {
   "cell_type": "code",
   "execution_count": 3,
   "id": "61f94205",
   "metadata": {},
   "outputs": [
    {
     "data": {
      "text/plain": [
       "['.DS_Store',\n",
       " 'yelp_data',\n",
       " 'Untitled Notebook 2023-07-06 17_10_37.py',\n",
       " 'README.md',\n",
       " 'FileSplit.ipynb',\n",
       " '.gitignore',\n",
       " '.gitattributes',\n",
       " '.ipynb_checkpoints',\n",
       " 'venv',\n",
       " '.git',\n",
       " '.vscode']"
      ]
     },
     "execution_count": 3,
     "metadata": {},
     "output_type": "execute_result"
    }
   ],
   "source": [
    "os.listdir(basepath)"
   ]
  },
  {
   "cell_type": "code",
   "execution_count": 4,
   "id": "460e19c3",
   "metadata": {},
   "outputs": [
    {
     "data": {
      "text/plain": [
       "['/Users/henryliu/Temp00/exp_Databricks_YelpAcademicDataset/yelp_data/yelp_academic_dataset_checkin.json',\n",
       " '/Users/henryliu/Temp00/exp_Databricks_YelpAcademicDataset/yelp_data/yelp_academic_dataset_tip.json',\n",
       " '/Users/henryliu/Temp00/exp_Databricks_YelpAcademicDataset/yelp_data/yelp_academic_dataset_review.json',\n",
       " '/Users/henryliu/Temp00/exp_Databricks_YelpAcademicDataset/yelp_data/yelp_academic_dataset_business.json',\n",
       " '/Users/henryliu/Temp00/exp_Databricks_YelpAcademicDataset/yelp_data/yelp_academic_dataset_user.json']"
      ]
     },
     "execution_count": 4,
     "metadata": {},
     "output_type": "execute_result"
    }
   ],
   "source": [
    "data_files = [os.path.join(os.path.abspath(\"./yelp_data\"),f) for f in os.listdir(\"./yelp_data\") if f[-5:] == '.json']\n",
    "data_files"
   ]
  },
  {
   "cell_type": "code",
   "execution_count": 5,
   "id": "3dfd07b2",
   "metadata": {},
   "outputs": [],
   "source": [
    "def split_datafile(filepath, defaultsize=2000000000):\n",
    "    file = filepath\n",
    "    output_dir = filepath.split('.')[0]\n",
    "    if not os.path.exists(output_dir):\n",
    "        os.mkdir(output_dir)\n",
    "    s = split.Split(file, output_dir)\n",
    "    s.bysize(size=defaultsize)"
   ]
  },
  {
   "cell_type": "code",
   "execution_count": 6,
   "id": "3a3bb4ad",
   "metadata": {},
   "outputs": [
    {
     "data": {
      "text/plain": [
       "['yelp_academic_dataset_user_out',\n",
       " 'yelp_academic_dataset_user',\n",
       " '.DS_Store',\n",
       " 'yelp_academic_dataset_review_out',\n",
       " 'yelp_academic_dataset_checkin.json',\n",
       " 'yelp_academic_dataset_checkin_out',\n",
       " 'yelp_academic_dataset_tip.json',\n",
       " 'yelp_academic_dataset_tip_out',\n",
       " 'yelp_academic_dataset_business',\n",
       " 'yelp_academic_dataset_review',\n",
       " 'yelp_academic_dataset_business_out',\n",
       " 'yelp_academic_dataset_review.json',\n",
       " 'yelp_academic_dataset_checkin',\n",
       " 'yelp_academic_dataset_tip',\n",
       " 'yelp_academic_dataset_business.json',\n",
       " 'yelp_academic_dataset_user.json']"
      ]
     },
     "execution_count": 6,
     "metadata": {},
     "output_type": "execute_result"
    }
   ],
   "source": [
    "for file in data_files:\n",
    "    split_datafile(file)\n",
    "os.listdir(os.path.join(basepath, \"yelp_data/\"))"
   ]
  },
  {
   "cell_type": "code",
   "execution_count": null,
   "id": "cae66e3c",
   "metadata": {},
   "outputs": [],
   "source": []
  },
  {
   "cell_type": "markdown",
   "id": "48ac4199",
   "metadata": {},
   "source": [
    "# Merge files"
   ]
  },
  {
   "cell_type": "code",
   "execution_count": 7,
   "id": "b3d7d88c",
   "metadata": {},
   "outputs": [],
   "source": [
    "from filesplit import merge, split\n",
    "import os"
   ]
  },
  {
   "cell_type": "code",
   "execution_count": 8,
   "id": "adc9f6bd",
   "metadata": {
    "scrolled": true
   },
   "outputs": [
    {
     "data": {
      "text/plain": [
       "'/Users/henryliu/Temp00/exp_Databricks_YelpAcademicDataset'"
      ]
     },
     "execution_count": 8,
     "metadata": {},
     "output_type": "execute_result"
    }
   ],
   "source": [
    "basepath = os.path.abspath('.')\n",
    "basepath"
   ]
  },
  {
   "cell_type": "code",
   "execution_count": 9,
   "id": "f433bd57",
   "metadata": {},
   "outputs": [
    {
     "data": {
      "text/plain": [
       "['.DS_Store',\n",
       " 'yelp_data',\n",
       " 'Untitled Notebook 2023-07-06 17_10_37.py',\n",
       " 'README.md',\n",
       " 'FileSplit.ipynb',\n",
       " '.gitignore',\n",
       " '.gitattributes',\n",
       " '.ipynb_checkpoints',\n",
       " 'venv',\n",
       " '.git',\n",
       " '.vscode']"
      ]
     },
     "execution_count": 9,
     "metadata": {},
     "output_type": "execute_result"
    }
   ],
   "source": [
    "os.listdir(basepath)"
   ]
  },
  {
   "cell_type": "code",
   "execution_count": 13,
   "id": "c4c6f7b1",
   "metadata": {
    "scrolled": true
   },
   "outputs": [
    {
     "data": {
      "text/plain": [
       "['/Users/henryliu/Temp00/exp_Databricks_YelpAcademicDataset/yelp_data/yelp_academic_dataset_user',\n",
       " '/Users/henryliu/Temp00/exp_Databricks_YelpAcademicDataset/yelp_data/yelp_academic_dataset_business',\n",
       " '/Users/henryliu/Temp00/exp_Databricks_YelpAcademicDataset/yelp_data/yelp_academic_dataset_review',\n",
       " '/Users/henryliu/Temp00/exp_Databricks_YelpAcademicDataset/yelp_data/yelp_academic_dataset_checkin',\n",
       " '/Users/henryliu/Temp00/exp_Databricks_YelpAcademicDataset/yelp_data/yelp_academic_dataset_tip']"
      ]
     },
     "execution_count": 13,
     "metadata": {},
     "output_type": "execute_result"
    }
   ],
   "source": [
    "input_folders = [\n",
    "    os.path.join(os.path.abspath(\"./yelp_data\"), d) \n",
    "    for d in os.listdir(\"./yelp_data\") \n",
    "    if d[0] != '.'\n",
    "    and \".json\" not in d \n",
    "    and \"_out\" not in d\n",
    "                ]\n",
    "input_folders"
   ]
  },
  {
   "cell_type": "code",
   "execution_count": 14,
   "id": "5ec68dad",
   "metadata": {},
   "outputs": [],
   "source": [
    "def merge_datafile(inputdir, outputdir=\"*_out\", outputfilename=None):\n",
    "    outputdir = outputdir.replace('*', inputdir)\n",
    "    if not os.path.exists(outputdir):\n",
    "        os.mkdir(outputdir)\n",
    "    fileext = [path for path in os.listdir(inputdir) if path != 'manifest'][0].split('.')[-1]\n",
    "    m = merge.Merge(\n",
    "        inputdir, \n",
    "        outputdir, \n",
    "        outputfilename=outputfilename if outputfilename is not None else '.'.join([inputdir.split('/')[-1], fileext])\n",
    "    )\n",
    "    m.merge()"
   ]
  },
  {
   "cell_type": "code",
   "execution_count": 15,
   "id": "25bf3208",
   "metadata": {},
   "outputs": [],
   "source": [
    "for i in input_folders:\n",
    "    merge_datafile(i)"
   ]
  },
  {
   "cell_type": "code",
   "execution_count": null,
   "id": "e92430ca",
   "metadata": {},
   "outputs": [],
   "source": []
  }
 ],
 "metadata": {
  "kernelspec": {
   "display_name": "Python 3 (ipykernel)",
   "language": "python",
   "name": "python3"
  },
  "language_info": {
   "codemirror_mode": {
    "name": "ipython",
    "version": 3
   },
   "file_extension": ".py",
   "mimetype": "text/x-python",
   "name": "python",
   "nbconvert_exporter": "python",
   "pygments_lexer": "ipython3",
   "version": "3.11.4"
  }
 },
 "nbformat": 4,
 "nbformat_minor": 5
}
