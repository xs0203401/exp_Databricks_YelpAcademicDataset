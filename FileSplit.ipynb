{
 "cells": [
  {
   "cell_type": "markdown",
   "metadata": {
    "application/vnd.databricks.v1+cell": {
     "cellMetadata": {},
     "inputWidgets": {},
     "nuid": "0e4a220c-2069-4128-a36e-38575e2366ae",
     "showTitle": false,
     "title": ""
    }
   },
   "source": [
    "# Using [filesplit library](https://pypi.org/project/filesplit/)"
   ]
  },
  {
   "cell_type": "markdown",
   "metadata": {
    "application/vnd.databricks.v1+cell": {
     "cellMetadata": {},
     "inputWidgets": {},
     "nuid": "2835b396-a98d-4845-8de8-214e75272751",
     "showTitle": false,
     "title": ""
    }
   },
   "source": [
    "# Split files"
   ]
  },
  {
   "cell_type": "code",
   "execution_count": 0,
   "metadata": {
    "application/vnd.databricks.v1+cell": {
     "cellMetadata": {
      "byteLimit": 2048000,
      "rowLimit": 10000
     },
     "inputWidgets": {},
     "nuid": "c502533e-af84-43ce-b16a-7e695ce64cb6",
     "showTitle": false,
     "title": ""
    }
   },
   "outputs": [],
   "source": [
    "%sh pip3 install filesplit"
   ]
  },
  {
   "cell_type": "code",
   "execution_count": 0,
   "metadata": {
    "application/vnd.databricks.v1+cell": {
     "cellMetadata": {
      "byteLimit": 2048000,
      "rowLimit": 10000
     },
     "inputWidgets": {},
     "nuid": "2d8b4bd8-424a-4162-bc6f-2937d7ead0cd",
     "showTitle": false,
     "title": ""
    }
   },
   "outputs": [],
   "source": [
    "from filesplit import merge, split\n",
    "import os"
   ]
  },
  {
   "cell_type": "code",
   "execution_count": 0,
   "metadata": {
    "application/vnd.databricks.v1+cell": {
     "cellMetadata": {
      "byteLimit": 2048000,
      "rowLimit": 10000
     },
     "inputWidgets": {},
     "nuid": "3224e82b-ecb9-4560-95c4-834006dc75d9",
     "showTitle": false,
     "title": ""
    },
    "scrolled": true
   },
   "outputs": [],
   "source": [
    "basepath = os.path.abspath('.')\n",
    "basepath"
   ]
  },
  {
   "cell_type": "code",
   "execution_count": 0,
   "metadata": {
    "application/vnd.databricks.v1+cell": {
     "cellMetadata": {
      "byteLimit": 2048000,
      "rowLimit": 10000
     },
     "inputWidgets": {},
     "nuid": "2f19efc2-c501-4c31-be5e-97ca6bf8c892",
     "showTitle": false,
     "title": ""
    }
   },
   "outputs": [],
   "source": [
    "os.listdir(basepath)"
   ]
  },
  {
   "cell_type": "code",
   "execution_count": 0,
   "metadata": {
    "application/vnd.databricks.v1+cell": {
     "cellMetadata": {},
     "inputWidgets": {},
     "nuid": "b4f43238-f513-474b-8ae6-293be8ed1273",
     "showTitle": false,
     "title": ""
    }
   },
   "outputs": [],
   "source": [
    "data_files = [os.path.join(os.path.abspath(\"./yelp_data\"),f) for f in os.listdir(\"./yelp_data\") if f[-5:] == '.json']\n",
    "data_files"
   ]
  },
  {
   "cell_type": "code",
   "execution_count": 0,
   "metadata": {
    "application/vnd.databricks.v1+cell": {
     "cellMetadata": {},
     "inputWidgets": {},
     "nuid": "040c7c89-6a0f-46b1-b1b9-f88b6da21f2d",
     "showTitle": false,
     "title": ""
    }
   },
   "outputs": [],
   "source": [
    "def split_datafile(filepath, defaultsize=2000000000):\n",
    "    file = filepath\n",
    "    output_dir = filepath.split('.')[0]\n",
    "    if not os.path.exists(output_dir):\n",
    "        os.mkdir(output_dir)\n",
    "    s = split.Split(file, output_dir)\n",
    "    s.bysize(size=defaultsize)"
   ]
  },
  {
   "cell_type": "code",
   "execution_count": 0,
   "metadata": {
    "application/vnd.databricks.v1+cell": {
     "cellMetadata": {},
     "inputWidgets": {},
     "nuid": "f0d8625d-5d5c-4f52-ad79-a65b04d8ddc1",
     "showTitle": false,
     "title": ""
    }
   },
   "outputs": [],
   "source": [
    "for file in data_files:\n",
    "    split_datafile(file)\n",
    "os.listdir(os.path.join(basepath, \"yelp_data/\"))"
   ]
  },
  {
   "cell_type": "code",
   "execution_count": 0,
   "metadata": {
    "application/vnd.databricks.v1+cell": {
     "cellMetadata": {},
     "inputWidgets": {},
     "nuid": "635d17e6-acc8-4947-bb23-c609922644a9",
     "showTitle": false,
     "title": ""
    }
   },
   "outputs": [],
   "source": []
  },
  {
   "cell_type": "markdown",
   "metadata": {
    "application/vnd.databricks.v1+cell": {
     "cellMetadata": {},
     "inputWidgets": {},
     "nuid": "11189b13-b51c-46f7-9bfc-f647c623deab",
     "showTitle": false,
     "title": ""
    }
   },
   "source": [
    "# Merge files"
   ]
  },
  {
   "cell_type": "code",
   "execution_count": 0,
   "metadata": {
    "application/vnd.databricks.v1+cell": {
     "cellMetadata": {},
     "inputWidgets": {},
     "nuid": "4e1f09ea-1ca2-444c-91f3-efb706eb6210",
     "showTitle": false,
     "title": ""
    }
   },
   "outputs": [],
   "source": [
    "from filesplit import merge, split\n",
    "import os"
   ]
  },
  {
   "cell_type": "code",
   "execution_count": 0,
   "metadata": {
    "application/vnd.databricks.v1+cell": {
     "cellMetadata": {},
     "inputWidgets": {},
     "nuid": "2eec4458-46ad-40f1-8787-4ce2f1fb3860",
     "showTitle": false,
     "title": ""
    },
    "scrolled": true
   },
   "outputs": [],
   "source": [
    "basepath = os.path.abspath('.')\n",
    "basepath"
   ]
  },
  {
   "cell_type": "code",
   "execution_count": 0,
   "metadata": {
    "application/vnd.databricks.v1+cell": {
     "cellMetadata": {},
     "inputWidgets": {},
     "nuid": "29b66756-d052-4dac-a65a-c9753b147fec",
     "showTitle": false,
     "title": ""
    }
   },
   "outputs": [],
   "source": [
    "os.listdir(basepath)"
   ]
  },
  {
   "cell_type": "code",
   "execution_count": 0,
   "metadata": {
    "application/vnd.databricks.v1+cell": {
     "cellMetadata": {},
     "inputWidgets": {},
     "nuid": "e455f7ae-a70a-4bc8-848a-6933a0599c0c",
     "showTitle": false,
     "title": ""
    },
    "scrolled": true
   },
   "outputs": [],
   "source": [
    "input_folders = [\n",
    "    os.path.join(os.path.abspath(\"./yelp_data\"), d) \n",
    "    for d in os.listdir(\"./yelp_data\") \n",
    "    if d[0] != '.'\n",
    "    and \".json\" not in d \n",
    "    and \"_out\" not in d\n",
    "                ]\n",
    "input_folders"
   ]
  },
  {
   "cell_type": "code",
   "execution_count": 0,
   "metadata": {
    "application/vnd.databricks.v1+cell": {
     "cellMetadata": {},
     "inputWidgets": {},
     "nuid": "b835db29-fb96-4a82-bf05-b3340c30b30e",
     "showTitle": false,
     "title": ""
    }
   },
   "outputs": [],
   "source": [
    "def merge_datafile(inputdir, outputdir=\"*_out\", outputfilename=None):\n",
    "    outputdir = outputdir.replace('*', inputdir)\n",
    "    if not os.path.exists(outputdir):\n",
    "        os.mkdir(outputdir)\n",
    "    fileext = [path for path in os.listdir(inputdir) if path != 'manifest'][0].split('.')[-1]\n",
    "    m = merge.Merge(\n",
    "        inputdir, \n",
    "        outputdir, \n",
    "        outputfilename=outputfilename if outputfilename is not None else '.'.join([inputdir.split('/')[-1], fileext])\n",
    "    )\n",
    "    m.merge()"
   ]
  },
  {
   "cell_type": "code",
   "execution_count": 0,
   "metadata": {
    "application/vnd.databricks.v1+cell": {
     "cellMetadata": {},
     "inputWidgets": {},
     "nuid": "bb0b046f-1be8-49b5-8f05-b98b56470b57",
     "showTitle": false,
     "title": ""
    }
   },
   "outputs": [],
   "source": [
    "for i in input_folders:\n",
    "    merge_datafile(i)"
   ]
  },
  {
   "cell_type": "code",
   "execution_count": 0,
   "metadata": {
    "application/vnd.databricks.v1+cell": {
     "cellMetadata": {},
     "inputWidgets": {},
     "nuid": "9c9b0457-83dd-4723-9716-a1e0df07e0d0",
     "showTitle": false,
     "title": ""
    }
   },
   "outputs": [],
   "source": []
  }
 ],
 "metadata": {
  "application/vnd.databricks.v1+notebook": {
   "dashboards": [],
   "language": "python",
   "notebookMetadata": {
    "mostRecentlyExecutedCommandWithImplicitDF": {
     "commandId": 335362036878525,
     "dataframes": [
      "_sqldf"
     ]
    },
    "pythonIndentUnit": 4
   },
   "notebookName": "FileSplit",
   "widgets": {}
  },
  "kernelspec": {
   "display_name": "Python 3 (ipykernel)",
   "language": "python",
   "name": "python3"
  },
  "language_info": {
   "codemirror_mode": {
    "name": "ipython",
    "version": 3
   },
   "file_extension": ".py",
   "mimetype": "text/x-python",
   "name": "python",
   "nbconvert_exporter": "python",
   "pygments_lexer": "ipython3",
   "version": "3.11.4"
  }
 },
 "nbformat": 4,
 "nbformat_minor": 0
}
