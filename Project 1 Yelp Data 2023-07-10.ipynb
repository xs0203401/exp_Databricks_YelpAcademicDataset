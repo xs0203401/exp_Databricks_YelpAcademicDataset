{
 "cells": [
  {
   "cell_type": "markdown",
   "metadata": {
    "application/vnd.databricks.v1+cell": {
     "cellMetadata": {},
     "inputWidgets": {},
     "nuid": "ba06890c-6421-4b0f-827b-691e6ada8940",
     "showTitle": false,
     "title": ""
    }
   },
   "source": [
    "# Download dataset"
   ]
  },
  {
   "cell_type": "code",
   "execution_count": 0,
   "metadata": {
    "application/vnd.databricks.v1+cell": {
     "cellMetadata": {
      "byteLimit": 2048000,
      "rowLimit": 10000
     },
     "inputWidgets": {},
     "nuid": "624d19fa-7371-496f-b860-0c21918a1b2e",
     "showTitle": false,
     "title": ""
    }
   },
   "outputs": [],
   "source": [
    "from urllib.request import urlopen\n",
    "from shutil import copyfileobj\n",
    "# https://stackoverflow.com/a/74032774/7876126\n",
    "\n",
    "my_url = '''https://drive.google.com/uc?export=download&id=1ZJksDgxUTp3dG2GOPlB2vvz3UPknil6_&confirm=t&uuid=68c9d3ff-81ed-48bf-96fa-69254cfae279&at=AKKF8vy3IYHK4s-kB_NS6s58mohz:1688974748736'''\n",
    "my_filename = \"yelp_data.zip\"\n",
    "\n",
    "with urlopen(my_url) as in_stream, open(my_filename, 'wb') as out_file:\n",
    "    copyfileobj(in_stream, out_file)"
   ]
  },
  {
   "cell_type": "markdown",
   "metadata": {
    "application/vnd.databricks.v1+cell": {
     "cellMetadata": {},
     "inputWidgets": {},
     "nuid": "4e044fe4-aff0-43f1-8eb9-922c9413fb27",
     "showTitle": false,
     "title": ""
    }
   },
   "source": [
    "check local folder and unzip file"
   ]
  },
  {
   "cell_type": "code",
   "execution_count": 0,
   "metadata": {
    "application/vnd.databricks.v1+cell": {
     "cellMetadata": {
      "byteLimit": 2048000,
      "rowLimit": 10000
     },
     "inputWidgets": {},
     "nuid": "ae0817cc-569b-45d6-bec9-a70a739e850d",
     "showTitle": false,
     "title": ""
    }
   },
   "outputs": [
    {
     "output_type": "stream",
     "name": "stdout",
     "output_type": "stream",
     "text": [
      "__MACOSX\nazure\nconf\neventlogs\nhadoop_accessed_config.lst\nlogs\npreload_class.lst\nyelp_data.zip\n"
     ]
    }
   ],
   "source": [
    "%sh ls"
   ]
  },
  {
   "cell_type": "code",
   "execution_count": 0,
   "metadata": {
    "application/vnd.databricks.v1+cell": {
     "cellMetadata": {
      "byteLimit": 2048000,
      "rowLimit": 10000
     },
     "inputWidgets": {},
     "nuid": "9826134c-8451-4dbf-850f-155259dfe733",
     "showTitle": false,
     "title": ""
    }
   },
   "outputs": [
    {
     "output_type": "stream",
     "name": "stdout",
     "output_type": "stream",
     "text": [
      "Archive:  yelp_data.zip\n   creating: yelp_data_unzip/yelp_data/\n  inflating: yelp_data_unzip/__MACOSX/._yelp_data  \n  inflating: yelp_data_unzip/yelp_data/.DS_Store  \n  inflating: yelp_data_unzip/__MACOSX/yelp_data/._.DS_Store  \n  inflating: yelp_data_unzip/yelp_data/yelp_academic_dataset_checkin.json  \n  inflating: yelp_data_unzip/__MACOSX/yelp_data/._yelp_academic_dataset_checkin.json  \n  inflating: yelp_data_unzip/yelp_data/yelp_academic_dataset_tip.json  \n  inflating: yelp_data_unzip/__MACOSX/yelp_data/._yelp_academic_dataset_tip.json  \n  inflating: yelp_data_unzip/yelp_data/yelp_academic_dataset_review.json  \n  inflating: yelp_data_unzip/__MACOSX/yelp_data/._yelp_academic_dataset_review.json  \n  inflating: yelp_data_unzip/yelp_data/yelp_academic_dataset_business.json  \n  inflating: yelp_data_unzip/__MACOSX/yelp_data/._yelp_academic_dataset_business.json  \n  inflating: yelp_data_unzip/yelp_data/yelp_academic_dataset_user.json  \n  inflating: yelp_data_unzip/__MACOSX/yelp_data/._yelp_academic_dataset_user.json  \n"
     ]
    }
   ],
   "source": [
    "%sh unzip yelp_data -d yelp_data_unzip"
   ]
  },
  {
   "cell_type": "code",
   "execution_count": 0,
   "metadata": {
    "application/vnd.databricks.v1+cell": {
     "cellMetadata": {
      "byteLimit": 2048000,
      "rowLimit": 10000
     },
     "inputWidgets": {},
     "nuid": "d27ac41d-eecd-4702-8014-b243a642160e",
     "showTitle": false,
     "title": ""
    }
   },
   "outputs": [
    {
     "output_type": "stream",
     "name": "stdout",
     "output_type": "stream",
     "text": [
      "yelp_data_unzip/__MACOSX:\ntotal 16K\ndrwxr-xr-x 3 root root 4.0K Jul 10 07:45 .\ndrwxr-xr-x 4 root root 4.0K Jul 10 07:45 ..\n-rwx------ 1 root root  212 Jul  3 02:51 ._yelp_data\ndrwxr-xr-x 2 root root 4.0K Jul 10 07:47 yelp_data\n\nyelp_data_unzip/yelp_data:\ntotal 8.7G\ndrwx------ 2 root root 4.0K Jul  3 02:51 .\ndrwxr-xr-x 4 root root 4.0K Jul 10 07:45 ..\n-rw-r--r-- 1 root root 6.1K Jul  3 02:51 .DS_Store\n-rw-r--r-- 1 root root 114M Mar 18  2022 yelp_academic_dataset_business.json\n-rw-r--r-- 1 root root 274M Mar 18  2022 yelp_academic_dataset_checkin.json\n-rw-r--r-- 1 root root 5.0G Mar 18  2022 yelp_academic_dataset_review.json\n-rw-r--r-- 1 root root 173M Mar 18  2022 yelp_academic_dataset_tip.json\n-rw-r--r-- 1 root root 3.2G Mar 18  2022 yelp_academic_dataset_user.json\n"
     ]
    }
   ],
   "source": [
    "%sh ls -lah yelp_data_unzip/*"
   ]
  },
  {
   "cell_type": "code",
   "execution_count": 0,
   "metadata": {
    "application/vnd.databricks.v1+cell": {
     "cellMetadata": {
      "byteLimit": 2048000,
      "rowLimit": 10000
     },
     "inputWidgets": {},
     "nuid": "ae342213-93a6-455d-81a8-831c95fa90ab",
     "showTitle": false,
     "title": ""
    }
   },
   "outputs": [],
   "source": [
    "%sh rm -rf yelp_data_unzip/__MACOSX"
   ]
  },
  {
   "cell_type": "code",
   "execution_count": 0,
   "metadata": {
    "application/vnd.databricks.v1+cell": {
     "cellMetadata": {
      "byteLimit": 2048000,
      "rowLimit": 10000
     },
     "inputWidgets": {},
     "nuid": "c8abd11e-56cc-4dae-b716-747bf10959a5",
     "showTitle": false,
     "title": ""
    }
   },
   "outputs": [],
   "source": [
    "%sh rm -rf yelp_data_unzip/yelp_data/.DS_Store"
   ]
  },
  {
   "cell_type": "markdown",
   "metadata": {
    "application/vnd.databricks.v1+cell": {
     "cellMetadata": {},
     "inputWidgets": {},
     "nuid": "a7998573-7090-42de-bb6c-c5453c6a5ae6",
     "showTitle": false,
     "title": ""
    }
   },
   "source": [
    "Prep the raw file and upload to dbfs"
   ]
  },
  {
   "cell_type": "code",
   "execution_count": 0,
   "metadata": {
    "application/vnd.databricks.v1+cell": {
     "cellMetadata": {
      "byteLimit": 2048000,
      "rowLimit": 10000
     },
     "inputWidgets": {},
     "nuid": "7b82d1ce-e3fc-4bd2-9de6-80b06c849a23",
     "showTitle": false,
     "title": ""
    }
   },
   "outputs": [
    {
     "output_type": "stream",
     "name": "stdout",
     "output_type": "stream",
     "text": [
      "/databricks/driver\n"
     ]
    }
   ],
   "source": [
    "%sh pwd"
   ]
  },
  {
   "cell_type": "code",
   "execution_count": 0,
   "metadata": {
    "application/vnd.databricks.v1+cell": {
     "cellMetadata": {
      "byteLimit": 2048000,
      "rowLimit": 10000
     },
     "inputWidgets": {},
     "nuid": "537ccf70-b2ff-498a-8dd3-ce0939182155",
     "showTitle": false,
     "title": ""
    }
   },
   "outputs": [
    {
     "output_type": "execute_result",
     "data": {
      "text/plain": [
       "True"
      ]
     },
     "execution_count": 1,
     "metadata": {},
     "output_type": "execute_result"
    }
   ],
   "source": [
    "file_local_path = \"yelp_data_unzip/yelp_data\"\n",
    "dbfs_file_path = \"dbfs:/FileStore/yelp_data\"\n",
    "dbutils.fs.mkdirs(dbfs_file_path)\n"
   ]
  },
  {
   "cell_type": "code",
   "execution_count": 0,
   "metadata": {
    "application/vnd.databricks.v1+cell": {
     "cellMetadata": {
      "byteLimit": 2048000,
      "rowLimit": 10000
     },
     "inputWidgets": {},
     "nuid": "3b5e035f-7224-4578-b6f1-92eb68b0b524",
     "showTitle": false,
     "title": ""
    }
   },
   "outputs": [
    {
     "output_type": "execute_result",
     "data": {
      "text/plain": [
       "True"
      ]
     },
     "execution_count": 3,
     "metadata": {},
     "output_type": "execute_result"
    }
   ],
   "source": [
    "dbutils.fs.cp(f\"file:/databricks/driver/{file_local_path}\", dbfs_file_path, recurse=True)"
   ]
  },
  {
   "cell_type": "code",
   "execution_count": 0,
   "metadata": {
    "application/vnd.databricks.v1+cell": {
     "cellMetadata": {
      "byteLimit": 2048000,
      "rowLimit": 10000
     },
     "inputWidgets": {},
     "nuid": "b3265ace-a878-4e75-97bd-5e8373514db7",
     "showTitle": false,
     "title": ""
    }
   },
   "outputs": [
    {
     "output_type": "display_data",
     "data": {
      "text/html": [
       "<style scoped>\n",
       "  .table-result-container {\n",
       "    max-height: 300px;\n",
       "    overflow: auto;\n",
       "  }\n",
       "  table, th, td {\n",
       "    border: 1px solid black;\n",
       "    border-collapse: collapse;\n",
       "  }\n",
       "  th, td {\n",
       "    padding: 5px;\n",
       "  }\n",
       "  th {\n",
       "    text-align: left;\n",
       "  }\n",
       "</style><div class='table-result-container'><table class='table-result'><thead style='background-color: white'><tr><th>path</th><th>name</th><th>size</th><th>modificationTime</th></tr></thead><tbody><tr><td>dbfs:/FileStore/yelp_data/yelp_academic_dataset_business.json</td><td>yelp_academic_dataset_business.json</td><td>118863795</td><td>1689039922000</td></tr><tr><td>dbfs:/FileStore/yelp_data/yelp_academic_dataset_checkin.json</td><td>yelp_academic_dataset_checkin.json</td><td>286958945</td><td>1689039919000</td></tr><tr><td>dbfs:/FileStore/yelp_data/yelp_academic_dataset_review.json</td><td>yelp_academic_dataset_review.json</td><td>5341868833</td><td>1689039951000</td></tr><tr><td>dbfs:/FileStore/yelp_data/yelp_academic_dataset_tip.json</td><td>yelp_academic_dataset_tip.json</td><td>180604475</td><td>1689039921000</td></tr><tr><td>dbfs:/FileStore/yelp_data/yelp_academic_dataset_user.json</td><td>yelp_academic_dataset_user.json</td><td>3363329011</td><td>1689039970000</td></tr></tbody></table></div>"
      ]
     },
     "metadata": {
      "application/vnd.databricks.v1+output": {
       "addedWidgets": {},
       "aggData": [],
       "aggError": "",
       "aggOverflow": false,
       "aggSchema": [],
       "aggSeriesLimitReached": false,
       "aggType": "",
       "arguments": {},
       "columnCustomDisplayInfos": {},
       "data": [
        [
         "dbfs:/FileStore/yelp_data/yelp_academic_dataset_business.json",
         "yelp_academic_dataset_business.json",
         118863795,
         1689039922000
        ],
        [
         "dbfs:/FileStore/yelp_data/yelp_academic_dataset_checkin.json",
         "yelp_academic_dataset_checkin.json",
         286958945,
         1689039919000
        ],
        [
         "dbfs:/FileStore/yelp_data/yelp_academic_dataset_review.json",
         "yelp_academic_dataset_review.json",
         5341868833,
         1689039951000
        ],
        [
         "dbfs:/FileStore/yelp_data/yelp_academic_dataset_tip.json",
         "yelp_academic_dataset_tip.json",
         180604475,
         1689039921000
        ],
        [
         "dbfs:/FileStore/yelp_data/yelp_academic_dataset_user.json",
         "yelp_academic_dataset_user.json",
         3363329011,
         1689039970000
        ]
       ],
       "datasetInfos": [],
       "dbfsResultPath": null,
       "isJsonSchema": true,
       "metadata": {},
       "overflow": false,
       "plotOptions": {
        "customPlotOptions": {},
        "displayType": "table",
        "pivotAggregation": null,
        "pivotColumns": null,
        "xColumns": null,
        "yColumns": null
       },
       "removedWidgets": [],
       "schema": [
        {
         "metadata": "{}",
         "name": "path",
         "type": "\"string\""
        },
        {
         "metadata": "{}",
         "name": "name",
         "type": "\"string\""
        },
        {
         "metadata": "{}",
         "name": "size",
         "type": "\"long\""
        },
        {
         "metadata": "{}",
         "name": "modificationTime",
         "type": "\"long\""
        }
       ],
       "type": "table"
      }
     },
     "output_type": "display_data"
    }
   ],
   "source": [
    "display(dbutils.fs.ls(dbfs_file_path))"
   ]
  },
  {
   "cell_type": "markdown",
   "metadata": {
    "application/vnd.databricks.v1+cell": {
     "cellMetadata": {},
     "inputWidgets": {},
     "nuid": "20a19b35-7801-447b-864d-f9daaab2cb8d",
     "showTitle": false,
     "title": ""
    }
   },
   "source": [
    "# Load dbfs raw files"
   ]
  },
  {
   "cell_type": "code",
   "execution_count": 0,
   "metadata": {
    "application/vnd.databricks.v1+cell": {
     "cellMetadata": {
      "byteLimit": 2048000,
      "rowLimit": 10000
     },
     "inputWidgets": {},
     "nuid": "a0bf99dc-2908-456e-9ff6-b37a405f9fe6",
     "showTitle": false,
     "title": ""
    }
   },
   "outputs": [],
   "source": [
    "from pyspark.sql.session import SparkSession\n",
    "spark = SparkSession.builder.master('local').appName(\"yelp_data\").config(\"test\", \"forExample\").getOrCreate()"
   ]
  },
  {
   "cell_type": "code",
   "execution_count": 0,
   "metadata": {
    "application/vnd.databricks.v1+cell": {
     "cellMetadata": {
      "byteLimit": 2048000,
      "rowLimit": 10000
     },
     "inputWidgets": {},
     "nuid": "0924f447-e699-4b4c-9f08-92df52713c38",
     "showTitle": false,
     "title": ""
    }
   },
   "outputs": [
    {
     "output_type": "stream",
     "name": "stdout",
     "output_type": "stream",
     "text": [
      "dbfs:/FileStore/yelp_data\ndbfs:/FileStore/yelp_data/yelp_academic_dataset_business.json\ndbfs:/FileStore/yelp_data/yelp_academic_dataset_checkin.json\ndbfs:/FileStore/yelp_data/yelp_academic_dataset_review.json\ndbfs:/FileStore/yelp_data/yelp_academic_dataset_tip.json\ndbfs:/FileStore/yelp_data/yelp_academic_dataset_user.json\n------------------\ndict_keys(['business', 'checkin', 'review', 'tip', 'user'])\n"
     ]
    }
   ],
   "source": [
    "print(dbfs_file_path)\n",
    "df = {}\n",
    "\n",
    "for datafile in dbutils.fs.ls(dbfs_file_path):\n",
    "    datafile_name = datafile.path.split('/')[-1].split('.')[0].split('_')[-1]\n",
    "    df[datafile_name] = spark.read.format('json').option(\"inferSchema\", True).load(datafile.path)\n",
    "    print(datafile.path)\n",
    "\n",
    "print(\"------------------\")\n",
    "print(df.keys())"
   ]
  },
  {
   "cell_type": "code",
   "execution_count": 0,
   "metadata": {
    "application/vnd.databricks.v1+cell": {
     "cellMetadata": {
      "byteLimit": 2048000,
      "rowLimit": 10000
     },
     "inputWidgets": {},
     "nuid": "0b393be5-e2a5-4832-a063-6799179deb7b",
     "showTitle": false,
     "title": ""
    }
   },
   "outputs": [
    {
     "output_type": "stream",
     "name": "stdout",
     "output_type": "stream",
     "text": [
      "------------ [df_business] Schema ------------\nroot\n |-- address: string (nullable = true)\n |-- attributes: struct (nullable = true)\n |    |-- AcceptsInsurance: string (nullable = true)\n |    |-- AgesAllowed: string (nullable = true)\n |    |-- Alcohol: string (nullable = true)\n |    |-- Ambience: string (nullable = true)\n |    |-- BYOB: string (nullable = true)\n |    |-- BYOBCorkage: string (nullable = true)\n |    |-- BestNights: string (nullable = true)\n |    |-- BikeParking: string (nullable = true)\n |    |-- BusinessAcceptsBitcoin: string (nullable = true)\n |    |-- BusinessAcceptsCreditCards: string (nullable = true)\n |    |-- BusinessParking: string (nullable = true)\n |    |-- ByAppointmentOnly: string (nullable = true)\n |    |-- Caters: string (nullable = true)\n |    |-- CoatCheck: string (nullable = true)\n |    |-- Corkage: string (nullable = true)\n |    |-- DietaryRestrictions: string (nullable = true)\n |    |-- DogsAllowed: string (nullable = true)\n |    |-- DriveThru: string (nullable = true)\n |    |-- GoodForDancing: string (nullable = true)\n |    |-- GoodForKids: string (nullable = true)\n |    |-- GoodForMeal: string (nullable = true)\n |    |-- HairSpecializesIn: string (nullable = true)\n |    |-- HappyHour: string (nullable = true)\n |    |-- HasTV: string (nullable = true)\n |    |-- Music: string (nullable = true)\n |    |-- NoiseLevel: string (nullable = true)\n |    |-- Open24Hours: string (nullable = true)\n |    |-- OutdoorSeating: string (nullable = true)\n |    |-- RestaurantsAttire: string (nullable = true)\n |    |-- RestaurantsCounterService: string (nullable = true)\n |    |-- RestaurantsDelivery: string (nullable = true)\n |    |-- RestaurantsGoodForGroups: string (nullable = true)\n |    |-- RestaurantsPriceRange2: string (nullable = true)\n |    |-- RestaurantsReservations: string (nullable = true)\n |    |-- RestaurantsTableService: string (nullable = true)\n |    |-- RestaurantsTakeOut: string (nullable = true)\n |    |-- Smoking: string (nullable = true)\n |    |-- WheelchairAccessible: string (nullable = true)\n |    |-- WiFi: string (nullable = true)\n |-- business_id: string (nullable = true)\n |-- categories: string (nullable = true)\n |-- city: string (nullable = true)\n |-- hours: struct (nullable = true)\n |    |-- Friday: string (nullable = true)\n |    |-- Monday: string (nullable = true)\n |    |-- Saturday: string (nullable = true)\n |    |-- Sunday: string (nullable = true)\n |    |-- Thursday: string (nullable = true)\n |    |-- Tuesday: string (nullable = true)\n |    |-- Wednesday: string (nullable = true)\n |-- is_open: long (nullable = true)\n |-- latitude: double (nullable = true)\n |-- longitude: double (nullable = true)\n |-- name: string (nullable = true)\n |-- postal_code: string (nullable = true)\n |-- review_count: long (nullable = true)\n |-- stars: double (nullable = true)\n |-- state: string (nullable = true)\n\n---------------------------------------------\n------------ [df_checkin] Schema ------------\nroot\n |-- business_id: string (nullable = true)\n |-- date: string (nullable = true)\n\n---------------------------------------------\n------------ [df_review] Schema ------------\nroot\n |-- business_id: string (nullable = true)\n |-- cool: long (nullable = true)\n |-- date: string (nullable = true)\n |-- funny: long (nullable = true)\n |-- review_id: string (nullable = true)\n |-- stars: double (nullable = true)\n |-- text: string (nullable = true)\n |-- useful: long (nullable = true)\n |-- user_id: string (nullable = true)\n\n---------------------------------------------\n------------ [df_tip] Schema ------------\nroot\n |-- business_id: string (nullable = true)\n |-- compliment_count: long (nullable = true)\n |-- date: string (nullable = true)\n |-- text: string (nullable = true)\n |-- user_id: string (nullable = true)\n\n---------------------------------------------\n------------ [df_user] Schema ------------\nroot\n |-- average_stars: double (nullable = true)\n |-- compliment_cool: long (nullable = true)\n |-- compliment_cute: long (nullable = true)\n |-- compliment_funny: long (nullable = true)\n |-- compliment_hot: long (nullable = true)\n |-- compliment_list: long (nullable = true)\n |-- compliment_more: long (nullable = true)\n |-- compliment_note: long (nullable = true)\n |-- compliment_photos: long (nullable = true)\n |-- compliment_plain: long (nullable = true)\n |-- compliment_profile: long (nullable = true)\n |-- compliment_writer: long (nullable = true)\n |-- cool: long (nullable = true)\n |-- elite: string (nullable = true)\n |-- fans: long (nullable = true)\n |-- friends: string (nullable = true)\n |-- funny: long (nullable = true)\n |-- name: string (nullable = true)\n |-- review_count: long (nullable = true)\n |-- useful: long (nullable = true)\n |-- user_id: string (nullable = true)\n |-- yelping_since: string (nullable = true)\n\n---------------------------------------------\n"
     ]
    }
   ],
   "source": [
    "for df_name, df_data in df.items():\n",
    "    print(f\"------------ [df_{df_name}] Schema ------------\")\n",
    "    df_data.printSchema()\n",
    "    print(f\"---------------------------------------------\")"
   ]
  },
  {
   "cell_type": "markdown",
   "metadata": {
    "application/vnd.databricks.v1+cell": {
     "cellMetadata": {},
     "inputWidgets": {},
     "nuid": "be3f11b8-02b1-4f30-b54b-4bb2193fe883",
     "showTitle": false,
     "title": ""
    }
   },
   "source": [
    "# Data exploration and Cleansing"
   ]
  },
  {
   "cell_type": "code",
   "execution_count": 0,
   "metadata": {
    "application/vnd.databricks.v1+cell": {
     "cellMetadata": {
      "byteLimit": 2048000,
      "rowLimit": 10000
     },
     "inputWidgets": {},
     "nuid": "72b8e3e9-63f8-4f2d-9560-60fbe5513091",
     "showTitle": false,
     "title": ""
    }
   },
   "outputs": [],
   "source": [
    "import pyspark.sql.functions as F\n",
    "import pyspark.sql.types as T\n",
    "from pyspark.sql.window import Window\n"
   ]
  },
  {
   "cell_type": "code",
   "execution_count": 0,
   "metadata": {
    "application/vnd.databricks.v1+cell": {
     "cellMetadata": {
      "byteLimit": 2048000,
      "rowLimit": 10000
     },
     "inputWidgets": {},
     "nuid": "41fd27aa-8304-4222-bd4f-4eaf0bc7ddec",
     "showTitle": false,
     "title": ""
    }
   },
   "outputs": [
    {
     "output_type": "stream",
     "name": "stdout",
     "output_type": "stream",
     "text": [
      "[df_business] Table Duplicates Check:\nDistinct Cnt: 150346; Cnt: 150346\n[df_checkin] Table Duplicates Check:\nDistinct Cnt: 131930; Cnt: 131930\n[df_review] Table Duplicates Check:\nDistinct Cnt: 6990280; Cnt: 6990280\n[df_tip] Table Duplicates Check:\nDistinct Cnt: 908848; Cnt: 908915\n[df_user] Table Duplicates Check:\nDistinct Cnt: 1987897; Cnt: 1987897\n"
     ]
    }
   ],
   "source": [
    "for df_name in df.keys():\n",
    "    distinct_cnt = df[df_name].distinct().count()\n",
    "    cnt = df[df_name].count()\n",
    "    print(f\"[df_{df_name}] Table Duplicates Check:\")\n",
    "    print(f\"Distinct Cnt: {distinct_cnt}; Cnt: {cnt}\")"
   ]
  },
  {
   "cell_type": "markdown",
   "metadata": {
    "application/vnd.databricks.v1+cell": {
     "cellMetadata": {},
     "inputWidgets": {},
     "nuid": "882e74d6-f51e-4a42-b8ce-ded593e7c5ce",
     "showTitle": false,
     "title": ""
    }
   },
   "source": [
    "df_tip -> SCD ii"
   ]
  },
  {
   "cell_type": "code",
   "execution_count": 0,
   "metadata": {
    "application/vnd.databricks.v1+cell": {
     "cellMetadata": {
      "byteLimit": 2048000,
      "rowLimit": 10000
     },
     "inputWidgets": {},
     "nuid": "31028f59-47a9-4fd5-995d-4b2464bb0fd2",
     "showTitle": false,
     "title": ""
    }
   },
   "outputs": [],
   "source": [
    "from datetime import datetime\n",
    "max_datetime = datetime(9999, 12, 31, 23, 59, 59)"
   ]
  },
  {
   "cell_type": "code",
   "execution_count": 0,
   "metadata": {
    "application/vnd.databricks.v1+cell": {
     "cellMetadata": {
      "byteLimit": 2048000,
      "rowLimit": 10000
     },
     "inputWidgets": {},
     "nuid": "bce4cb6c-cb41-4a58-9ed8-3b8858ed8f65",
     "showTitle": false,
     "title": ""
    }
   },
   "outputs": [],
   "source": [
    "df_tip_SCD2 = df['tip'] \\\n",
    "    .withColumn(\"tip_row_num\", F.row_number().over(Window.partitionBy([F.col('business_id'), F.col('user_id')]).orderBy(F.col('date')))) \\\n",
    "    .withColumn(\"start_datetime\", F.to_timestamp(F.col('date'))) \\\n",
    "    .withColumn(\"end_datetime_stg\", F.lead(F.col('start_datetime'), 1).over(Window.partitionBy([F.col('business_id'), F.col('user_id')]).orderBy(F.col('date'))) + F.expr('INTERVAL -1 seconds')) \\\n",
    "    .withColumn(\"max_datetime\", F.lit(max_datetime).cast(T.TimestampType())) \\\n",
    "    .withColumn(\"end_datetime\", F.when(F.isnull(F.col('end_datetime_stg')), F.col('max_datetime')).otherwise(F.col('end_datetime_stg'))) \\\n",
    "    .withColumn(\"is_current\", F.when(F.isnull(F.col('end_datetime_stg')), F.lit(True)).otherwise(F.lit(False))) \\\n",
    "    .drop('end_datetime_stg', 'max_datetime')\n",
    "\n",
    "# display(df_tip_SCD2)"
   ]
  },
  {
   "cell_type": "code",
   "execution_count": 0,
   "metadata": {
    "application/vnd.databricks.v1+cell": {
     "cellMetadata": {
      "byteLimit": 2048000,
      "rowLimit": 10000
     },
     "inputWidgets": {},
     "nuid": "d284469d-9144-4a52-9941-68aaf9665c1f",
     "showTitle": false,
     "title": ""
    }
   },
   "outputs": [
    {
     "output_type": "stream",
     "name": "stdout",
     "output_type": "stream",
     "text": [
      "+--------------------+----------------+-------------------+--------------------+--------------------+-----------+-------------------+-------------------+----------+\n|         business_id|compliment_count|               date|                text|             user_id|tip_row_num|     start_datetime|       end_datetime|is_current|\n+--------------------+----------------+-------------------+--------------------+--------------------+-----------+-------------------+-------------------+----------+\n|---kPU91CF4Lq2-Wl...|               0|2021-09-23 16:58:31|Great food & serv...|St3aCytjxiMN-5OvF...|          1|2021-09-23 16:58:31|9999-12-31 23:59:59|      true|\n|--ARBQr1WMsTWiwOK...|               0|2015-08-15 00:22:09|Very chill & nice...|I2XpWCHAom1JRyHXZ...|          1|2015-08-15 00:22:09|9999-12-31 23:59:59|      true|\n|--MbOh2O1pATkXa7x...|               0|2013-05-02 04:03:35|they have fat fre...|qi6OJ4D1e_T_AUQGH...|          1|2013-05-02 04:03:35|2013-05-18 03:40:29|     false|\n|--MbOh2O1pATkXa7x...|               0|2013-05-18 03:40:30|They switch diffe...|qi6OJ4D1e_T_AUQGH...|          2|2013-05-18 03:40:30|2013-05-20 03:06:49|     false|\n|--MbOh2O1pATkXa7x...|               0|2013-05-20 03:06:50|They have a java ...|qi6OJ4D1e_T_AUQGH...|          3|2013-05-20 03:06:50|9999-12-31 23:59:59|      true|\n|--O3ip9NpXTKD4oBS...|               0|2014-01-25 22:56:41|Parking is a disa...|HH38aDvodVQ9kfayj...|          1|2014-01-25 22:56:41|9999-12-31 23:59:59|      true|\n|--O3ip9NpXTKD4oBS...|               0|2014-08-10 21:06:51|Peaceful park wit...|hobg0JjbE7PWpSjoz...|          1|2014-08-10 21:06:51|9999-12-31 23:59:59|      true|\n|--O3ip9NpXTKD4oBS...|               0|2010-08-07 02:00:36|Mercado with Hope...|tIJy3EAkaFgajlAHU...|          1|2010-08-07 02:00:36|2010-08-12 17:48:34|     false|\n|--O3ip9NpXTKD4oBS...|               0|2010-08-12 17:48:35|         Kids world.|tIJy3EAkaFgajlAHU...|          2|2010-08-12 17:48:35|9999-12-31 23:59:59|      true|\n|--epgcb7xHGuJ-4PU...|               0|2014-10-01 16:10:31|You can chain you...|2QAMAAoo-X30fRkDU...|          1|2014-10-01 16:10:31|9999-12-31 23:59:59|      true|\n|--epgcb7xHGuJ-4PU...|               0|2014-11-06 15:09:11|Fast, friendly se...|NjRwiQIkI66_axVGD...|          1|2014-11-06 15:09:11|9999-12-31 23:59:59|      true|\n|--onnLZrsCazmcy2P...|               0|2011-12-18 19:36:04|Salad bar is the ...|DGZTz4K3czUM0OoKG...|          1|2011-12-18 19:36:04|9999-12-31 23:59:59|      true|\n|--pDYWb4DzqKdAdrP...|               0|2014-12-21 19:20:08|Great wine select...|MYw6zsHcv4XJL3hZ4...|          1|2014-12-21 19:20:08|9999-12-31 23:59:59|      true|\n|--pDYWb4DzqKdAdrP...|               0|2013-03-25 19:31:07|Wonderful selecti...|ThkRYqLyPL9pdethC...|          1|2013-03-25 19:31:07|9999-12-31 23:59:59|      true|\n|--rS-rnOIZxoiDA8y...|               0|2021-08-21 15:19:33|Parking is locate...|k5LdONRIZLJpkkJ-x...|          1|2021-08-21 15:19:33|9999-12-31 23:59:59|      true|\n|--sXnWH9Xm6_NvIjy...|               0|2013-10-03 11:13:28|Nice place! Just ...|ZqYuVoXpDR5Kr8zCq...|          1|2013-10-03 11:13:28|9999-12-31 23:59:59|      true|\n|--sXnWH9Xm6_NvIjy...|               0|2017-11-03 12:00:02|Get the Philadelp...|is4YnvsJVddBI7UwT...|          1|2017-11-03 12:00:02|9999-12-31 23:59:59|      true|\n|--zb12mw2YK-7j6Ua...|               0|2021-08-15 00:08:40|Excellent tamales...|jijtr5W3zWid8jgb1...|          1|2021-08-15 00:08:40|9999-12-31 23:59:59|      true|\n|-09Oc2D14vRnmirPh...|               0|2013-02-23 16:42:09|            Great...|eL40tFd-zR3doqgoO...|          1|2013-02-23 16:42:09|9999-12-31 23:59:59|      true|\n|-09Oc2D14vRnmirPh...|               0|2014-02-27 21:35:04|Be mindful of whe...|qBx5qpkh7q31gteUT...|          1|2014-02-27 21:35:04|9999-12-31 23:59:59|      true|\n+--------------------+----------------+-------------------+--------------------+--------------------+-----------+-------------------+-------------------+----------+\nonly showing top 20 rows\n\n"
     ]
    }
   ],
   "source": [
    "df['tip'] = df_tip_SCD2\n",
    "df['tip'].show()"
   ]
  },
  {
   "cell_type": "markdown",
   "metadata": {
    "application/vnd.databricks.v1+cell": {
     "cellMetadata": {},
     "inputWidgets": {},
     "nuid": "2c36db12-529a-4b0e-bd3f-e41361086617",
     "showTitle": false,
     "title": ""
    }
   },
   "source": [
    "df_business ->\n",
    "- df_business\n",
    "- df_business_categories\n",
    "- df_business_attributes"
   ]
  },
  {
   "cell_type": "markdown",
   "metadata": {
    "application/vnd.databricks.v1+cell": {
     "cellMetadata": {},
     "inputWidgets": {},
     "nuid": "63434f39-42e7-458d-9508-c310f8905a62",
     "showTitle": false,
     "title": ""
    }
   },
   "source": [
    "df_business_categories"
   ]
  },
  {
   "cell_type": "code",
   "execution_count": 0,
   "metadata": {
    "application/vnd.databricks.v1+cell": {
     "cellMetadata": {
      "byteLimit": 2048000,
      "rowLimit": 10000
     },
     "inputWidgets": {},
     "nuid": "ef4c869b-30de-4099-bd27-2c84be1d5677",
     "showTitle": false,
     "title": ""
    }
   },
   "outputs": [],
   "source": [
    "df_business_cat_exploded = df['business'].select(['business_id', 'categories']).withColumn('category', F.explode(F.split(F.col('categories'), ',')))"
   ]
  },
  {
   "cell_type": "code",
   "execution_count": 0,
   "metadata": {
    "application/vnd.databricks.v1+cell": {
     "cellMetadata": {
      "byteLimit": 2048000,
      "rowLimit": 10000
     },
     "inputWidgets": {},
     "nuid": "de783bb0-ee91-455a-b0ee-3afdeaa03cba",
     "showTitle": false,
     "title": ""
    }
   },
   "outputs": [
    {
     "output_type": "stream",
     "name": "stdout",
     "output_type": "stream",
     "text": [
      "+--------------------+--------------------+--------------------+\n|         business_id|          categories|            category|\n+--------------------+--------------------+--------------------+\n|Pns2l4eNsfO8kk83d...|Doctors, Traditio...|             Doctors|\n|Pns2l4eNsfO8kk83d...|Doctors, Traditio...| Traditional Chin...|\n|Pns2l4eNsfO8kk83d...|Doctors, Traditio...| Naturopathic/Hol...|\n|Pns2l4eNsfO8kk83d...|Doctors, Traditio...|         Acupuncture|\n|Pns2l4eNsfO8kk83d...|Doctors, Traditio...|    Health & Medical|\n|Pns2l4eNsfO8kk83d...|Doctors, Traditio...|       Nutritionists|\n|mpf3x-BjTdTEA3yCZ...|Shipping Centers,...|    Shipping Centers|\n|mpf3x-BjTdTEA3yCZ...|Shipping Centers,...|      Local Services|\n|mpf3x-BjTdTEA3yCZ...|Shipping Centers,...|            Notaries|\n|mpf3x-BjTdTEA3yCZ...|Shipping Centers,...|     Mailbox Centers|\n|mpf3x-BjTdTEA3yCZ...|Shipping Centers,...|   Printing Services|\n|tUFrWirKiKi_TAnsV...|Department Stores...|   Department Stores|\n|tUFrWirKiKi_TAnsV...|Department Stores...|            Shopping|\n|tUFrWirKiKi_TAnsV...|Department Stores...|             Fashion|\n|tUFrWirKiKi_TAnsV...|Department Stores...|       Home & Garden|\n|tUFrWirKiKi_TAnsV...|Department Stores...|         Electronics|\n|tUFrWirKiKi_TAnsV...|Department Stores...|    Furniture Stores|\n|MTSW4McQd7CbVtyjq...|Restaurants, Food...|         Restaurants|\n|MTSW4McQd7CbVtyjq...|Restaurants, Food...|                Food|\n|MTSW4McQd7CbVtyjq...|Restaurants, Food...|          Bubble Tea|\n+--------------------+--------------------+--------------------+\nonly showing top 20 rows\n\n"
     ]
    }
   ],
   "source": [
    "# Save \n",
    "df['business_cat_exploded'] = df_business_cat_exploded\n",
    "df['business_cat_exploded'].show()"
   ]
  },
  {
   "cell_type": "markdown",
   "metadata": {
    "application/vnd.databricks.v1+cell": {
     "cellMetadata": {},
     "inputWidgets": {},
     "nuid": "8edb7bc3-237b-44ef-9ac7-f4ada2ac7713",
     "showTitle": false,
     "title": ""
    }
   },
   "source": [
    "df_business_attributes"
   ]
  },
  {
   "cell_type": "code",
   "execution_count": 0,
   "metadata": {
    "application/vnd.databricks.v1+cell": {
     "cellMetadata": {
      "byteLimit": 2048000,
      "rowLimit": 10000
     },
     "inputWidgets": {},
     "nuid": "1dfd7a40-8e9d-4489-98a5-4d6322d4df75",
     "showTitle": false,
     "title": ""
    }
   },
   "outputs": [],
   "source": [
    "df_business_attributes = df['business'].select(['business_id', 'attributes']).filter(F.col('attributes').isNotNull())"
   ]
  },
  {
   "cell_type": "code",
   "execution_count": 0,
   "metadata": {
    "application/vnd.databricks.v1+cell": {
     "cellMetadata": {
      "byteLimit": 2048000,
      "rowLimit": 10000
     },
     "inputWidgets": {},
     "nuid": "1f5c0d7e-76f8-4bb9-a943-329eb8c0b092",
     "showTitle": false,
     "title": ""
    }
   },
   "outputs": [],
   "source": [
    "# https://medium.com/@thomaspt748/how-to-flatten-json-files-dynamically-using-apache-pyspark-c6b1b5fd4777\n",
    "from typing import Final, Dict, Tuple\n",
    "# from pyspark.sql.session import SparkSession\n",
    "from pyspark.sql import DataFrame as SDF\n",
    "# from pyspark.sql import functions as F\n",
    "# from pyspark.sql import types as T\n",
    "\n",
    "def rename_dataframe_cols(df: SDF, col_names: Dict[str, str]) -> SDF:\n",
    "    \"\"\"\n",
    "    rename columns\n",
    "    \"\"\"\n",
    "    return df.select(*[F.col(col_name).alias(col_names.get(col_name, col_name)) for col_name in df.columns])\n",
    "\n",
    "def update_column_names(df: SDF, index: int) -> SDF:\n",
    "    df_temp = df\n",
    "    all_cols = df_temp.columns\n",
    "    new_cols = dict((column, f\"{column}*{index}\") for column in all_cols)\n",
    "    df_temp = df_temp.transform(lambda df_x: rename_dataframe_cols(df_x, new_cols))\n",
    "\n",
    "    return df_temp\n",
    "\n",
    "def flatten_json(df_arg: SDF, index: int = 1) -> SDF:\n",
    "    \"\"\"\n",
    "    flatten json in a spark dataframe with recursion\n",
    "    \"\"\"\n",
    "    df = update_column_names(df_arg, index) if index == 1 else df_arg\n",
    "\n",
    "    fields = df.schema.fields\n",
    "\n",
    "    for field in fields:\n",
    "        data_type = str(field.dataType)\n",
    "        column_name = field.name\n",
    "        first_10_chars = data_type[:10]\n",
    "\n",
    "        if first_10_chars == \"ArrayType(\":\n",
    "            # Explode Array\n",
    "            df_temp = df.withColumn(column_name, F.explode_outer(F.col(column_name)))\n",
    "            return flatten_json(df_temp, index + 1)\n",
    "        \n",
    "        elif first_10_chars == \"StructType\":\n",
    "            current_col = column_name\n",
    "\n",
    "            append_str = current_col\n",
    "\n",
    "            data_type_str = str(df.schema[current_col].dataType)\n",
    "\n",
    "            df_temp = df.withColumnRenamed(column_name, column_name + \"#1\") \\\n",
    "                if column_name in data_type_str else df\n",
    "            current_col = current_col + \"#1\" if column_name in data_type_str else current_col\n",
    "\n",
    "            df_before_expanding = df_temp.select(f\"{current_col}.*\")\n",
    "            newly_gen_cols = df_before_expanding.columns\n",
    "\n",
    "            begin_index = append_str.rfind('*')\n",
    "            end_index = len(append_str)\n",
    "            level = append_str[begin_index + 1: end_index]\n",
    "            next_level = int(level) + 1\n",
    "\n",
    "            custom_cols = dict((field, f\"{append_str}->{field}*{next_level}\") for field in newly_gen_cols)\n",
    "            df_temp2 = df_temp.select(\"*\", f\"{current_col}.*\").drop(current_col)\n",
    "            df_temp3 = df_temp2.transform(lambda df_x: rename_dataframe_cols(df_x, custom_cols))\n",
    "            return flatten_json(df_temp3, index + 1)\n",
    "    return df"
   ]
  },
  {
   "cell_type": "code",
   "execution_count": 0,
   "metadata": {
    "application/vnd.databricks.v1+cell": {
     "cellMetadata": {
      "byteLimit": 2048000,
      "rowLimit": 10000
     },
     "inputWidgets": {},
     "nuid": "849a950e-d04a-453c-b74a-edda8fb7ae69",
     "showTitle": false,
     "title": ""
    }
   },
   "outputs": [],
   "source": [
    "df_business_attributes_flatten = flatten_json(df_business_attributes)"
   ]
  },
  {
   "cell_type": "code",
   "execution_count": 0,
   "metadata": {
    "application/vnd.databricks.v1+cell": {
     "cellMetadata": {
      "byteLimit": 2048000,
      "rowLimit": 10000
     },
     "inputWidgets": {},
     "nuid": "8a99114a-e7df-4f29-a18a-a9986dbd0f2c",
     "showTitle": false,
     "title": ""
    }
   },
   "outputs": [
    {
     "output_type": "stream",
     "name": "stdout",
     "output_type": "stream",
     "text": [
      "+--------------------+--------------------------------+---------------------------+-----------------------+------------------------+--------------------+---------------------------+--------------------------+---------------------------+--------------------------------------+------------------------------------------+-------------------------------+---------------------------------+----------------------+-------------------------+-----------------------+-----------------------------------+---------------------------+-------------------------+------------------------------+---------------------------+---------------------------+---------------------------------+-------------------------+---------------------+---------------------+--------------------------+---------------------------+------------------------------+---------------------------------+-----------------------------------------+-----------------------------------+----------------------------------------+--------------------------------------+---------------------------------------+---------------------------------------+----------------------------------+-----------------------+------------------------------------+--------------------+\n|       business_id*1|attributes*1->AcceptsInsurance*2|attributes*1->AgesAllowed*2|attributes*1->Alcohol*2|attributes*1->Ambience*2|attributes*1->BYOB*2|attributes*1->BYOBCorkage*2|attributes*1->BestNights*2|attributes*1->BikeParking*2|attributes*1->BusinessAcceptsBitcoin*2|attributes*1->BusinessAcceptsCreditCards*2|attributes*1->BusinessParking*2|attributes*1->ByAppointmentOnly*2|attributes*1->Caters*2|attributes*1->CoatCheck*2|attributes*1->Corkage*2|attributes*1->DietaryRestrictions*2|attributes*1->DogsAllowed*2|attributes*1->DriveThru*2|attributes*1->GoodForDancing*2|attributes*1->GoodForKids*2|attributes*1->GoodForMeal*2|attributes*1->HairSpecializesIn*2|attributes*1->HappyHour*2|attributes*1->HasTV*2|attributes*1->Music*2|attributes*1->NoiseLevel*2|attributes*1->Open24Hours*2|attributes*1->OutdoorSeating*2|attributes*1->RestaurantsAttire*2|attributes*1->RestaurantsCounterService*2|attributes*1->RestaurantsDelivery*2|attributes*1->RestaurantsGoodForGroups*2|attributes*1->RestaurantsPriceRange2*2|attributes*1->RestaurantsReservations*2|attributes*1->RestaurantsTableService*2|attributes*1->RestaurantsTakeOut*2|attributes*1->Smoking*2|attributes*1->WheelchairAccessible*2|attributes*1->WiFi*2|\n+--------------------+--------------------------------+---------------------------+-----------------------+------------------------+--------------------+---------------------------+--------------------------+---------------------------+--------------------------------------+------------------------------------------+-------------------------------+---------------------------------+----------------------+-------------------------+-----------------------+-----------------------------------+---------------------------+-------------------------+------------------------------+---------------------------+---------------------------+---------------------------------+-------------------------+---------------------+---------------------+--------------------------+---------------------------+------------------------------+---------------------------------+-----------------------------------------+-----------------------------------+----------------------------------------+--------------------------------------+---------------------------------------+---------------------------------------+----------------------------------+-----------------------+------------------------------------+--------------------+\n|Pns2l4eNsfO8kk83d...|                            null|                       null|                   null|                    null|                null|                       null|                      null|                       null|                                  null|                                      null|                           null|                             True|                  null|                     null|                   null|                               null|                       null|                     null|                          null|                       null|                       null|                             null|                     null|                 null|                 null|                      null|                       null|                          null|                             null|                                     null|                               null|                                    null|                                  null|                                   null|                                   null|                              null|                   null|                                null|                null|\n|mpf3x-BjTdTEA3yCZ...|                            null|                       null|                   null|                    null|                null|                       null|                      null|                       null|                                  null|                                      True|                           null|                             null|                  null|                     null|                   null|                               null|                       null|                     null|                          null|                       null|                       null|                             null|                     null|                 null|                 null|                      null|                       null|                          null|                             null|                                     null|                               null|                                    null|                                  null|                                   null|                                   null|                              null|                   null|                                null|                null|\n|tUFrWirKiKi_TAnsV...|                            null|                       null|                   null|                    null|                null|                       null|                      null|                       True|                                  null|                                      True|           {'garage': False,...|                            False|                 False|                    False|                   null|                               null|                      False|                     null|                          null|                       null|                       null|                             null|                    False|                False|                 null|                      null|                       null|                         False|                             null|                                     null|                              False|                                    null|                                     2|                                  False|                                   null|                             False|                   null|                                True|               u'no'|\n|MTSW4McQd7CbVtyjq...|                            null|                       null|                u'none'|                    null|                null|                       null|                      null|                       True|                                  null|                                     False|           {'garage': False,...|                            False|                  True|                     null|                   null|                               null|                       null|                     null|                          null|                       null|                       null|                             null|                     null|                 null|                 null|                      null|                       null|                         False|                             null|                                     null|                              False|                                    null|                                     1|                                   null|                                   null|                              True|                   null|                                null|             u'free'|\n|mWMc6_wTdE0EUBKIG...|                            null|                       null|                   null|                    null|                null|                       null|                      null|                       True|                                  null|                                      True|           {'garage': None, ...|                             null|                 False|                     null|                   null|                               null|                       null|                     null|                          null|                       True|                       null|                             null|                     null|                 null|                 null|                      null|                       null|                          null|                             null|                                     null|                               null|                                    null|                                  null|                                   null|                                   null|                              True|                   null|                                True|                null|\n|CF33F8-E6oudUQ46H...|                            null|                       null|                u'none'|                    None|                null|                       null|                      null|                      False|                                  null|                                      True|                           None|                            False|                 False|                    False|                   null|                               null|                      False|                     True|                          null|                       True|                       null|                             null|                    False|                 True|                 null|                      null|                       null|                          True|                        u'casual'|                                     null|                               True|                                    True|                                     1|                                  False|                                  False|                              True|                   null|                                True|               u'no'|\n|n_0UpQx1hsNbnPUSl...|                            null|                       null|                   null|                    null|                null|                       null|                      null|                       True|                                  null|                                      True|           {'garage': False,...|                             null|                  null|                     null|                   null|                               null|                       null|                     null|                          null|                       null|                       null|                             null|                     null|                 null|                 null|                      null|                       null|                          null|                             null|                                     null|                               null|                                    null|                                     2|                                   null|                                   null|                              null|                   null|                                null|                null|\n|k0hlBqXX-Bt0vf1op...|                            null|                       null|            u'full_bar'|    {'romantic': Fals...|                null|                       null|                      null|                       null|                                  null|                                      True|           {'garage': False,...|                             null|                  True|                     null|                   null|                               null|                       null|                     null|                          null|                       True|                       null|                             null|                     null|                 True|                 null|                u'average'|                       null|                          True|                        u'casual'|                                     null|                              False|                                    True|                                     1|                                  False|                                   null|                              True|                   null|                                null|             u'free'|\n|bBDDEgkFA1Otx9Lfe...|                            null|                       null|                u'none'|                    null|                null|                       null|                      null|                       null|                                  null|                                      True|           {'garage': False,...|                            False|                 False|                    False|                   null|                               null|                      False|                     True|                          null|                       True|                       null|                             null|                    False|                 True|                 null|                      null|                       null|                          True|                         'casual'|                                     null|                               True|                                   False|                                     1|                                  False|                                  False|                              True|                   null|                                True|               u'no'|\n|UJsufbvfyfONHeWdv...|                            null|                       null|                   null|                    null|                null|                       null|                      null|                       True|                                  null|                                      True|           {'garage': False,...|                             null|                  null|                     null|                   null|                               null|                       null|                     null|                          null|                       null|                       null|                             null|                     null|                 null|                 null|                      null|                       null|                          null|                             null|                                     null|                               null|                                    null|                                     2|                                   null|                                   null|                              null|                   null|                                null|                null|\n|eEOYSgkmpB90uNA7l...|                            null|                       null|                 'none'|    {'touristy': Fals...|                null|                       null|                      null|                       null|                                  null|                                      null|           {'garage': False,...|                             null|                  null|                     null|                   null|                               null|                       null|                     null|                          null|                       null|       {'dessert': False...|                             null|                     null|                 null|                 null|                      null|                       null|                          None|                             null|                                     null|                               null|                                    null|                                  null|                                  False|                                   null|                              null|                   null|                                null|                null|\n|il_Ro8jwPlHresjw9...|                            null|                       null|                 'none'|    {'touristy': None...|                null|                       null|                      null|                      False|                                  null|                                      True|           {'garage': None, ...|                             null|                  null|                     null|                   null|                               null|                       null|                     null|                          null|                       True|       {'dessert': False...|                             null|                     null|                 True|                 null|                      null|                       null|                         False|                         'casual'|                                     null|                               True|                                    True|                                     1|                                  False|                                   null|                              True|                   null|                                null|               u'no'|\n|jaxMSoInw8Poo3XeM...|                            null|                       null|                   null|                    null|                null|                       null|                      null|                       null|                                  null|                                      null|                           null|                             True|                  null|                     null|                   null|                               null|                       null|                     null|                          null|                       null|                       null|                             null|                     null|                 null|                 null|                      null|                       null|                          null|                             null|                                     null|                               null|                                    null|                                  null|                                   null|                                   null|                              null|                   null|                                null|                null|\n|0bPLkL0QhhPO5kt1_...|                            null|                       null|                u'none'|    {'romantic': Fals...|                null|                       null|                      null|                       True|                                 False|                                      True|           {'garage': False,...|                             null|                  True|                     null|                   null|                               null|                       null|                     null|                          null|                       True|       {'dessert': False...|                             null|                     null|                 True|                 null|                u'average'|                       null|                         False|                        u'casual'|                                     null|                               True|                                   False|                                     1|                                  False|                                  False|                              True|                   null|                                True|               u'no'|\n|MUTTqe8uqyMdBl186...|                            null|                       null|             'full_bar'|    {'touristy': Fals...|                null|                       null|                      null|                       null|                                  null|                                      True|           {u'valet': False,...|                             null|                  null|                     null|                   null|                               null|                      False|                     null|                          null|                      False|       {'dessert': True,...|                             null|                     True|                False|                 null|                u'average'|                       null|                          True|                         'casual'|                                     null|                               True|                                    True|                                     2|                                   True|                                   True|                              True|                   null|                                True|              'free'|\n|rBmpy_Y1UbBx8ggHl...|                            null|                       null|                   null|                    null|                null|                       null|                      null|                       null|                                  null|                                      True|                           null|                            False|                  null|                     null|                   null|                               null|                       null|                    False|                          null|                       null|                       null|                             null|                     null|                 null|                 null|                      null|                       null|                          null|                             null|                                     null|                               null|                                    null|                                  null|                                   null|                                   null|                              null|                   null|                                null|             u'free'|\n|M0XSSHqrASOnhgbWD...|                            null|                       null|                   null|                    null|                null|                       null|                      null|                       True|                                  null|                                      True|           {'garage': False,...|                             null|                  null|                     null|                   null|                               null|                       null|                     null|                          null|                       null|                       null|                             null|                     null|                 null|                 null|                      null|                       null|                          null|                             null|                                     null|                               null|                                    null|                                     2|                                   null|                                   null|                              null|                   null|                                null|                null|\n|ROeacJQwBeh05Rqg7...|                            null|                       null|                u'none'|    {'touristy': Fals...|                null|                       null|                      null|                       True|                                  null|                                      True|           {'garage': False,...|                             null|                  True|                     null|                   null|                               null|                       null|                     null|                          null|                       True|       {'dessert': False...|                             null|                     null|                 True|                 null|                  u'quiet'|                       null|                          None|                        u'casual'|                                     null|                               None|                                   False|                                     1|                                  False|                                   True|                              True|                   null|                                null|               u'no'|\n|WKMJwqnfZKsAae75R...|                            null|                       null|       u'beer_and_wine'|    {'romantic': Fals...|                null|                       null|                      null|                       null|                                  null|                                      null|           {'garage': False,...|                             null|                  True|                     null|                   null|                               null|                       null|                     null|                          null|                      False|                       null|                             null|                     null|                False|                 null|                u'average'|                       null|                         False|                        u'casual'|                                     null|                              False|                                    True|                                     2|                                  False|                                   null|                              True|                   null|                                null|             u'free'|\n|qhDdDeI3K4jy2Kyzw...|                            null|                       null|                   null|                    null|                null|                       null|                      null|                      False|                                  null|                                      True|           {'garage': False,...|                             null|                  null|                     null|                   null|                               null|                       null|                     null|                          null|                       null|                       null|                             null|                     null|                 null|                 null|                      null|                       null|                          null|                             null|                                     null|                               null|                                    null|                                     2|                                   null|                                   null|                              null|                   null|                                null|                null|\n+--------------------+--------------------------------+---------------------------+-----------------------+------------------------+--------------------+---------------------------+--------------------------+---------------------------+--------------------------------------+------------------------------------------+-------------------------------+---------------------------------+----------------------+-------------------------+-----------------------+-----------------------------------+---------------------------+-------------------------+------------------------------+---------------------------+---------------------------+---------------------------------+-------------------------+---------------------+---------------------+--------------------------+---------------------------+------------------------------+---------------------------------+-----------------------------------------+-----------------------------------+----------------------------------------+--------------------------------------+---------------------------------------+---------------------------------------+----------------------------------+-----------------------+------------------------------------+--------------------+\nonly showing top 20 rows\n\n"
     ]
    }
   ],
   "source": [
    "# Save\n",
    "df['business_attributes_flatten'] = df_business_attributes_flatten\n",
    "df['business_attributes_flatten'].show()"
   ]
  },
  {
   "cell_type": "markdown",
   "metadata": {
    "application/vnd.databricks.v1+cell": {
     "cellMetadata": {},
     "inputWidgets": {},
     "nuid": "f82af791-06a9-42d9-a651-fc8470755d7e",
     "showTitle": false,
     "title": ""
    }
   },
   "source": [
    "df_business"
   ]
  },
  {
   "cell_type": "code",
   "execution_count": 0,
   "metadata": {
    "application/vnd.databricks.v1+cell": {
     "cellMetadata": {
      "byteLimit": 2048000,
      "rowLimit": 10000
     },
     "inputWidgets": {},
     "nuid": "244d5a2d-cf65-4f40-8308-9c35bfb44cec",
     "showTitle": false,
     "title": ""
    }
   },
   "outputs": [
    {
     "output_type": "stream",
     "name": "stdout",
     "output_type": "stream",
     "text": [
      "+--------------------+--------------------+--------------+--------------------+-------+-------------+--------------+--------------------+-----------+------------+-----+-----+\n|             address|         business_id|          city|               hours|is_open|     latitude|     longitude|                name|postal_code|review_count|stars|state|\n+--------------------+--------------------+--------------+--------------------+-------+-------------+--------------+--------------------+-----------+------------+-----+-----+\n|1616 Chapala St, ...|Pns2l4eNsfO8kk83d...| Santa Barbara|                null|      0|   34.4266787|  -119.7111968|Abby Rappoport, L...|      93101|           7|  5.0|   CA|\n|87 Grasso Plaza S...|mpf3x-BjTdTEA3yCZ...|        Affton|{8:0-18:30, 0:0-0...|      1|    38.551126|    -90.335695|       The UPS Store|      63123|          15|  3.0|   MO|\n|5255 E Broadway Blvd|tUFrWirKiKi_TAnsV...|        Tucson|{8:0-23:0, 8:0-22...|      0|    32.223236|   -110.880452|              Target|      85711|          22|  3.5|   AZ|\n|         935 Race St|MTSW4McQd7CbVtyjq...|  Philadelphia|{7:0-21:0, 7:0-20...|      1|   39.9555052|   -75.1555641|  St Honore Pastries|      19107|          80|  4.0|   PA|\n|       101 Walnut St|mWMc6_wTdE0EUBKIG...|    Green Lane|{12:0-22:0, null,...|      1|   40.3381827|   -75.4716585|Perkiomen Valley ...|      18054|          13|  4.5|   PA|\n|       615 S Main St|CF33F8-E6oudUQ46H...|  Ashland City|{9:0-0:0, 0:0-0:0...|      1|    36.269593|    -87.058943|      Sonic Drive-In|      37015|           6|  2.0|   TN|\n|8522 Eager Road, ...|n_0UpQx1hsNbnPUSl...|     Brentwood|{10:0-18:0, 0:0-0...|      1|    38.627695|    -90.340465|     Famous Footwear|      63144|          13|  2.5|   MO|\n|  400 Pasadena Ave S|qkRM_2X51Yqxk3btl...|St. Petersburg|{9:0-17:0, 9:0-17...|      1|     27.76659|    -82.732983|      Temple Beth-El|      33707|           5|  3.5|   FL|\n|   8025 Mackenzie Rd|k0hlBqXX-Bt0vf1op...|        Affton|                null|      0|   38.5651648|   -90.3210868|Tsevi's Pub And G...|      63123|          19|  3.0|   MO|\n| 2312 Dickerson Pike|bBDDEgkFA1Otx9Lfe...|     Nashville|{6:0-16:0, 0:0-0:...|      1|   36.2081024|   -86.7681696|      Sonic Drive-In|      37207|          10|  1.5|   TN|\n|21705 Village Lak...|UJsufbvfyfONHeWdv...| Land O' Lakes|{9:30-21:30, 9:30...|      1|28.1904587953|-82.4573802199|           Marshalls|      34639|           6|  3.5|   FL|\n|                    |eEOYSgkmpB90uNA7l...|     Tampa Bay|{11:0-14:0, 11:0-...|      1|   27.9552692|   -82.4563199|Vietnamese Food T...|      33602|          10|  4.0|   FL|\n|        8901 US 31 S|il_Ro8jwPlHresjw9...|  Indianapolis|{6:0-22:0, 6:0-22...|      1|39.6371332838| -86.127217412|             Denny's|      46227|          28|  2.5|   IN|\n|   15 N Missouri Ave|jaxMSoInw8Poo3XeM...|    Clearwater|{null, 7:30-15:30...|      1|    27.966235|    -82.787412|        Adams Dental|      33755|          10|  5.0|   FL|\n|       2575 E Bay Dr|0bPLkL0QhhPO5kt1_...|         Largo|{10:0-20:0, 10:0-...|      0|   27.9161159|   -82.7604608|Zio's Italian Market|      33771|         100|  4.5|   FL|\n|         205 Race St|MUTTqe8uqyMdBl186...|  Philadelphia|{13:30-23:0, null...|      1|    39.953949|   -75.1432262|            Tuna Bar|      19106|         245|  4.0|   PA|\n|     625 N Stone Ave|rBmpy_Y1UbBx8ggHl...|        Tucson|{8:0-17:0, 0:0-0:...|      1|   32.2298719|  -110.9723419|Arizona Truck Out...|      85705|          10|  4.5|   AZ|\n|        712 Adams St|M0XSSHqrASOnhgbWD...|   New Orleans|{10:0-19:0, 10:0-...|      1|29.9414679565| -90.129952757|      Herb Import Co|      70118|           5|  4.0|   LA|\n|     1241 Airline Dr|8wGISYjYkE2tSqn3c...|        Kenner|{8:0-17:0, 8:0-17...|      1|    29.981183|   -90.2540123|    Nifty Car Rental|      70062|          14|  3.5|   LA|\n|       1224 South St|ROeacJQwBeh05Rqg7...|  Philadelphia|{11:30-20:30, 11:...|      1|    39.943223|    -75.162568|                 BAP|      19147|         205|  4.5|   PA|\n+--------------------+--------------------+--------------+--------------------+-------+-------------+--------------+--------------------+-----------+------------+-----+-----+\nonly showing top 20 rows\n\n"
     ]
    }
   ],
   "source": [
    "# Clean and save\n",
    "df['business'] = df['business'].drop('attributes', 'categories')\n",
    "df['business'].show()"
   ]
  },
  {
   "cell_type": "markdown",
   "metadata": {
    "application/vnd.databricks.v1+cell": {
     "cellMetadata": {},
     "inputWidgets": {},
     "nuid": "093494a8-a552-46b3-a084-baf25c6f1200",
     "showTitle": false,
     "title": ""
    }
   },
   "source": [
    "user table ->\n",
    "- user\n",
    "- user_friends_map"
   ]
  },
  {
   "cell_type": "code",
   "execution_count": 0,
   "metadata": {
    "application/vnd.databricks.v1+cell": {
     "cellMetadata": {
      "byteLimit": 2048000,
      "rowLimit": 10000
     },
     "inputWidgets": {},
     "nuid": "4523e52e-3191-49f5-8238-fbde917e264d",
     "showTitle": false,
     "title": ""
    }
   },
   "outputs": [
    {
     "output_type": "stream",
     "name": "stdout",
     "output_type": "stream",
     "text": [
      "+--------------------+--------------------+--------------------+\n|             user_id|             friends|              friend|\n+--------------------+--------------------+--------------------+\n|qVc8ODYU5SZjKXVBg...|NSCy54eWehBJyZdG2...|[NSCy54eWehBJyZdG...|\n|j14WgRoU_-2ZE1aw1...|ueRPE0CX75ePGMqOF...|[ueRPE0CX75ePGMqO...|\n|2WnXYQFK0hXEoTxPt...|LuO3Bn4f3rlhyHIaN...|[LuO3Bn4f3rlhyHIa...|\n|SZDeASXq7o05mMNLs...|enx1vVPnfdNUdPho6...|[enx1vVPnfdNUdPho...|\n|hA5lMy-EnncsH4JoR...|PBK4q9KEEBHhFvSXC...|[PBK4q9KEEBHhFvSX...|\n|q_QQ5kBBwlCcbL1s4...|xBDpTUbai0DXrvxCe...|[xBDpTUbai0DXrvxC...|\n|cxuxXkcihfCbqt5By...|HDAQ74AEznP-YsMk1...|[HDAQ74AEznP-YsMk...|\n|E9kcWJdJUHuTKfQur...|y2GyxJF5VQWohxgw_...|[y2GyxJF5VQWohxgw...|\n|lO1iq-f75hnPNZkTy...|tOQDlz36rI__SOsbL...|[tOQDlz36rI__SOsb...|\n|AUi8MPWJ0mLkMfwbu...|gy5fWeSv3Gamuq9Ox...|[gy5fWeSv3Gamuq9O...|\n|iYzhPPqnrjJkg1JHZ...|Vq4Pc81l6MWTnc-h4...|[Vq4Pc81l6MWTnc-h...|\n|xoZvMJPDW6Q9pDAXI...|6tbXpUIU6upoeqWND...|[6tbXpUIU6upoeqWN...|\n|vVukUtqoLF5BvH_Vt...|zkK6c9BcDyqreU0fq...|[zkK6c9BcDyqreU0f...|\n|_crIokUeTCHVK_JVO...|f0mdrhyxVZ0TsFZD5...|[f0mdrhyxVZ0TsFZD...|\n|1McG5Rn_UDkmlkZOr...|piejMEdRkGB7-1aL4...|[piejMEdRkGB7-1aL...|\n|SgiBkhXeqIKl1PlFp...|j3MBGSLaXMlhLZNeA...|[j3MBGSLaXMlhLZNe...|\n|fJZO_skqpnhk1kvom...|hJiJzw6obCmbGAfwr...|[hJiJzw6obCmbGAfw...|\n|x7YtLnBW2dUnrrpwa...|EPBLDry-ObheloH-N...|[EPBLDry-ObheloH-...|\n|QF1Kuhs8iwLWANNZx...|dLts9bY66tXEFqYG0...|[dLts9bY66tXEFqYG...|\n|VcLRGCG_VbAo8MxOm...|Ynu2Z2L8Wv2fbTwQ_...|[Ynu2Z2L8Wv2fbTwQ...|\n+--------------------+--------------------+--------------------+\nonly showing top 20 rows\n\n"
     ]
    }
   ],
   "source": [
    "df_user_friends = df['user'].select(['user_id', 'friends'])\n",
    "df_user_friends = df_user_friends.withColumn(\"friend\", F.split(F.col('friends'), \",\"))\n",
    "df['user_friends'] = df_user_friends\n",
    "\n",
    "df['user_friends'].show()"
   ]
  },
  {
   "cell_type": "code",
   "execution_count": 0,
   "metadata": {
    "application/vnd.databricks.v1+cell": {
     "cellMetadata": {
      "byteLimit": 2048000,
      "rowLimit": 10000
     },
     "inputWidgets": {},
     "nuid": "b70aa911-8f82-43e8-b8e3-200360aa167c",
     "showTitle": false,
     "title": ""
    }
   },
   "outputs": [
    {
     "output_type": "stream",
     "name": "stdout",
     "output_type": "stream",
     "text": [
      "+-------------+---------------+---------------+----------------+--------------+---------------+---------------+---------------+-----------------+----------------+------------------+-----------------+-----+--------------------+----+--------------------+-----+---------+------------+------+--------------------+-------------------+\n|average_stars|compliment_cool|compliment_cute|compliment_funny|compliment_hot|compliment_list|compliment_more|compliment_note|compliment_photos|compliment_plain|compliment_profile|compliment_writer| cool|               elite|fans|             friends|funny|     name|review_count|useful|             user_id|      yelping_since|\n+-------------+---------------+---------------+----------------+--------------+---------------+---------------+---------------+-----------------+----------------+------------------+-----------------+-----+--------------------+----+--------------------+-----+---------+------------+------+--------------------+-------------------+\n|         3.91|            467|             56|             467|           250|             18|             65|            232|              180|             844|                55|              239| 5994|                2007| 267|NSCy54eWehBJyZdG2...| 1259|   Walker|         585|  7217|qVc8ODYU5SZjKXVBg...|2007-01-25 16:47:26|\n|         3.74|           3131|            157|            3131|          1145|            251|            264|           1847|             1946|            7054|               184|             1521|27281|2009,2010,2011,20...|3138|ueRPE0CX75ePGMqOF...|13066|   Daniel|        4333| 43091|j14WgRoU_-2ZE1aw1...|2009-01-25 04:35:42|\n|         3.32|            119|             17|             119|            89|              3|             13|             66|               18|              96|                10|               35| 1003|2009,2010,2011,20...|  52|LuO3Bn4f3rlhyHIaN...| 1010|    Steph|         665|  2086|2WnXYQFK0hXEoTxPt...|2008-07-25 10:41:00|\n|         4.27|             26|              6|              26|            24|              2|              4|             12|                9|              16|                 1|               10|  299|      2009,2010,2011|  28|enx1vVPnfdNUdPho6...|  330|     Gwen|         224|   512|SZDeASXq7o05mMNLs...|2005-11-29 04:38:33|\n|         3.54|              0|              0|               0|             1|              0|              1|              1|                0|               1|                 0|                0|    7|                    |   1|PBK4q9KEEBHhFvSXC...|   15|    Karen|          79|    29|hA5lMy-EnncsH4JoR...|2007-01-05 19:40:59|\n|         3.85|           2543|            361|            2543|          1713|            147|            163|           1212|              323|            5696|               191|              815|11211|2006,2007,2008,20...|1357|xBDpTUbai0DXrvxCe...| 9940|     Jane|        1221| 14953|q_QQ5kBBwlCcbL1s4...|2005-03-14 20:26:35|\n|         2.75|              0|              0|               0|             0|              0|              0|              0|                0|               1|                 0|                0|    0|                    |   1|HDAQ74AEznP-YsMk1...|    1|      Rob|          12|     6|cxuxXkcihfCbqt5By...|2009-02-24 03:09:06|\n|         3.73|             12|              0|              12|             4|              0|              7|              8|                0|               6|                 2|                5|  143|                    |  23|y2GyxJF5VQWohxgw_...|  102|     Mike|         358|   399|E9kcWJdJUHuTKfQur...|2008-12-11 22:11:56|\n|         4.04|              5|              3|               5|             2|              0|              0|              3|                1|               4|                 0|                3|   46|                    |   7|tOQDlz36rI__SOsbL...|   40| Rachelle|          40|   109|lO1iq-f75hnPNZkTy...|2008-12-29 22:40:56|\n|          3.4|              3|              0|               3|             0|              0|              0|              1|                0|               6|                 0|                0|   23|                    |   4|gy5fWeSv3Gamuq9Ox...|   20|     John|         109|   154|AUi8MPWJ0mLkMfwbu...|2010-01-07 18:32:04|\n|          4.0|              0|              0|               0|             0|              0|              0|              0|                0|               0|                 0|                0|    1|                    |   1|Vq4Pc81l6MWTnc-h4...|    0|    Chris|           4|     1|iYzhPPqnrjJkg1JHZ...|2010-11-03 18:59:20|\n|         3.89|             36|              3|              36|            23|              5|              9|             31|                7|              41|                 1|               24|  573| 2009,2010,2011,2012|  31|6tbXpUIU6upoeqWND...|  487|     Ryan|         535|  1130|xoZvMJPDW6Q9pDAXI...|2009-05-27 06:12:10|\n|         4.51|              0|              0|               0|             4|              0|              0|              1|                0|               5|                 0|                1|   27|                    |   4|zkK6c9BcDyqreU0fq...|    3| Charlene|          37|    63|vVukUtqoLF5BvH_Vt...|2011-01-29 17:18:59|\n|         3.08|              0|              0|               0|             0|              0|              0|              0|                0|               0|                 0|                0|    0|                    |   0|f0mdrhyxVZ0TsFZD5...|    3|    Kenny|          11|    30|_crIokUeTCHVK_JVO...|2009-10-07 17:23:44|\n|         4.29|              2|              0|               2|             1|              0|              0|              1|                0|               0|                 0|                0|   13|                    |   1|piejMEdRkGB7-1aL4...|    3|   Teresa|           7|    18|1McG5Rn_UDkmlkZOr...|2009-05-26 16:11:11|\n|         3.75|            221|             22|             221|           212|             34|             17|             67|               17|             158|                17|               45| 1297|2007,2008,2009,20...|  44|j3MBGSLaXMlhLZNeA...| 1138|   Eugene|         682|  1819|SgiBkhXeqIKl1PlFp...|2006-08-25 16:47:25|\n|         4.15|              2|              0|               2|             0|              0|              1|              6|                0|               2|                 0|                1|   19|                    |   1|hJiJzw6obCmbGAfwr...|    2| Jennifer|          25|    29|fJZO_skqpnhk1kvom...|2008-07-14 16:01:36|\n|         3.84|             66|              0|              66|            15|              0|              1|             12|               12|              33|                 0|                1|   29|                    |   9|EPBLDry-ObheloH-N...|   29|  Ronskee|          37|    56|x7YtLnBW2dUnrrpwa...|2010-05-06 00:40:56|\n|         4.11|            808|             29|             808|          1020|             23|             79|            144|              723|             407|                68|              587| 4149|2010,2011,2012,20...| 131|dLts9bY66tXEFqYG0...| 3714|Catherine|         607|  4573|QF1Kuhs8iwLWANNZx...|2009-04-27 20:25:54|\n|          3.6|              0|              0|               0|             1|              0|              0|              2|                0|               4|                 0|                1|   44|                    |   4|Ynu2Z2L8Wv2fbTwQ_...|   52|       AJ|         133|   201|VcLRGCG_VbAo8MxOm...|2009-07-11 16:47:38|\n+-------------+---------------+---------------+----------------+--------------+---------------+---------------+---------------+-----------------+----------------+------------------+-----------------+-----+--------------------+----+--------------------+-----+---------+------------+------+--------------------+-------------------+\nonly showing top 20 rows\n\n"
     ]
    }
   ],
   "source": [
    "df['user'].show()"
   ]
  },
  {
   "cell_type": "markdown",
   "metadata": {
    "application/vnd.databricks.v1+cell": {
     "cellMetadata": {},
     "inputWidgets": {},
     "nuid": "f9773ff6-0549-4e54-a54d-2ac7f0fcdda0",
     "showTitle": false,
     "title": ""
    }
   },
   "source": [
    "review"
   ]
  },
  {
   "cell_type": "code",
   "execution_count": 0,
   "metadata": {
    "application/vnd.databricks.v1+cell": {
     "cellMetadata": {
      "byteLimit": 2048000,
      "rowLimit": 10000
     },
     "inputWidgets": {},
     "nuid": "1d8e988e-428f-4ae4-9c6d-5904851b7722",
     "showTitle": false,
     "title": ""
    }
   },
   "outputs": [
    {
     "output_type": "execute_result",
     "data": {
      "text/plain": [
       "6990280"
      ]
     },
     "execution_count": 20,
     "metadata": {},
     "output_type": "execute_result"
    }
   ],
   "source": [
    "df['review'].select('business_id','review_id','user_id').count()"
   ]
  },
  {
   "cell_type": "code",
   "execution_count": 0,
   "metadata": {
    "application/vnd.databricks.v1+cell": {
     "cellMetadata": {
      "byteLimit": 2048000,
      "rowLimit": 10000
     },
     "inputWidgets": {},
     "nuid": "91ba2f5d-adc4-456f-8927-fcd719d4799b",
     "showTitle": false,
     "title": ""
    }
   },
   "outputs": [
    {
     "output_type": "execute_result",
     "data": {
      "text/plain": [
       "6990280"
      ]
     },
     "execution_count": 21,
     "metadata": {},
     "output_type": "execute_result"
    }
   ],
   "source": [
    "df['review'].select('business_id','review_id','user_id').distinct().count()"
   ]
  },
  {
   "cell_type": "code",
   "execution_count": 0,
   "metadata": {
    "application/vnd.databricks.v1+cell": {
     "cellMetadata": {
      "byteLimit": 2048000,
      "rowLimit": 10000
     },
     "inputWidgets": {},
     "nuid": "9718d2b4-ef1a-4b06-af1f-689c5917367c",
     "showTitle": false,
     "title": ""
    }
   },
   "outputs": [
    {
     "output_type": "stream",
     "name": "stdout",
     "output_type": "stream",
     "text": [
      "+--------------------+----+-------------------+-----+--------------------+-----+--------------------+------+--------------------+\n|         business_id|cool|               date|funny|           review_id|stars|                text|useful|             user_id|\n+--------------------+----+-------------------+-----+--------------------+-----+--------------------+------+--------------------+\n|XQfwVwDr-v0ZS3_Cb...|   0|2018-07-07 22:09:11|    0|KU_O5udG6zpxOg-Vc...|  3.0|If you decide to ...|     0|mh_-eMZ6K5RLWhZyI...|\n|7ATYjTIgM3jUlt4UM...|   1|2012-01-03 15:28:18|    0|BiTunyQ73aT9WBnpR...|  5.0|I've taken a lot ...|     1|OyoGAe7OKpv6SyGZT...|\n|YjUWPpI6HXG530lwP...|   0|2014-02-05 20:30:30|    0|saUsX_uimxRlCVr67...|  3.0|Family diner. Had...|     0|8g_iMtfSiwikVnbP2...|\n|kxX2SOes4o-D3ZQBk...|   1|2015-01-04 00:01:03|    0|AqPFMleE6RsU23_au...|  5.0|Wow!  Yummy, diff...|     1|_7bHUi9Uuf5__HHc_...|\n|e4Vwtrqf-wpJfwesg...|   1|2017-01-14 20:54:15|    0|Sx8TMOWLNuJBWer-0...|  4.0|Cute interior and...|     1|bcjbaE6dDog4jkNY9...|\n|04UD14gamNjLY0IDY...|   1|2015-09-23 23:10:31|    2|JrIxlS1TzJ-iCu79u...|  1.0|I am a long term ...|     1|eUta8W_HdHMXPzLBB...|\n|gmjsEdUsKpj9Xxu6p...|   0|2015-01-03 23:21:18|    2|6AxgBCNX_PNTOxmbR...|  5.0|Loved this tour! ...|     0|r3zeYsv1XFBRA4dJp...|\n|LHSTtnW3YHCeUkRDG...|   0|2015-08-07 02:29:16|    0|_ZeMknuYdlQcUqng_...|  5.0|Amazingly amazing...|     2|yfFzsLmaWF2d4Sr0U...|\n|B5XSoSG3SfvQGtKEG...|   0|2016-03-30 22:46:33|    1|ZKvDG2sBvHVdF5oBN...|  3.0|This easter inste...|     1|wSTuiTk-sKNdcFypr...|\n|gebiRewfieSdtt17P...|   0|2016-07-25 07:31:06|    0|pUycOfUwM8vqX7KjR...|  3.0|Had a party of 6 ...|     0|59MxRhNVhU9MYndMk...|\n|uMvVYRgGNXf5boolA...|   0|2015-06-21 14:48:06|    0|rGQRf8UafX7OTlMNN...|  5.0|My experience wit...|     2|1WHRWwQmZOZDAhp2Q...|\n|EQ-TZ2eeD_E0BHuvo...|   0|2015-08-19 14:31:45|    0|l3Wk_mvAog6XANIuG...|  4.0|Locals recommende...|     0|ZbqSHbgCjzVAqaa7N...|\n|lj-E32x9_FA7GmUrB...|   0|2014-06-27 22:44:01|    0|XW_LfMv0fV21l9c6x...|  4.0|Love going here f...|     0|9OAtfnWag-ajVxRbU...|\n|RZtGWDLCAtuipwaZ-...|   0|2009-10-14 19:57:14|    0|8JFGBuHMoiNDyfcxu...|  4.0|Good food--loved ...|     0|smOvOajNG0lS4Pq7d...|\n|otQS34_MymijPTdNB...|   0|2011-10-27 17:12:05|    2|UBp0zWyH60Hmw6Fsa...|  4.0|The bun makes the...|     0|4Uh27DgGzsp6PqrH9...|\n|BVndHaLihEYbr76Z0...|   0|2014-10-11 16:22:06|    0|OAhBYw8IQ6wlfw1ow...|  5.0|Great place for b...|     0|1C2lxzUo1Hyye4RFI...|\n|YtSqYv1Q_pOltsVPS...|   0|2013-06-24 11:21:25|    0|oyaMhzBSwfGgemSGu...|  5.0|Tremendous servic...|     0|Dd1jQj7S-BFGqRbAp...|\n|rBdG_23USc7DletfZ...|   0|2014-08-10 19:41:43|    0|LnGZB0fjfgeVDVz5I...|  4.0|The hubby and I h...|     1|j2wlzrntrbKwyOcOi...|\n|CLEWowfkj-wKYJlQD...|   1|2016-03-07 00:02:18|    0|u2vzZaOqJ2feRshaa...|  5.0|I go to blow bar ...|     2|NDZvyYHTUWWu-kqgQ...|\n|eFvzHawVJofxSnD7T...|   0|2014-11-12 15:30:27|    0|Xs8Z8lmKkosqW5mw_...|  5.0|My absolute favor...|     0|IQsF3Rc6IgCzjVV9D...|\n+--------------------+----+-------------------+-----+--------------------+-----+--------------------+------+--------------------+\nonly showing top 20 rows\n\n"
     ]
    }
   ],
   "source": [
    "df['review'].show()"
   ]
  },
  {
   "cell_type": "markdown",
   "metadata": {
    "application/vnd.databricks.v1+cell": {
     "cellMetadata": {},
     "inputWidgets": {},
     "nuid": "4791d575-d646-4dd7-882a-1beccd129fc6",
     "showTitle": false,
     "title": ""
    }
   },
   "source": [
    "checkin"
   ]
  },
  {
   "cell_type": "code",
   "execution_count": 0,
   "metadata": {
    "application/vnd.databricks.v1+cell": {
     "cellMetadata": {
      "byteLimit": 2048000,
      "rowLimit": 10000
     },
     "inputWidgets": {},
     "nuid": "cf209449-789a-4c20-a988-e62a72cb5b2d",
     "showTitle": false,
     "title": ""
    }
   },
   "outputs": [
    {
     "output_type": "stream",
     "name": "stdout",
     "output_type": "stream",
     "text": [
      "+--------------------+--------------------+--------------------+\n|         business_id|                date|           last_date|\n+--------------------+--------------------+--------------------+\n|---kPU91CF4Lq2-Wl...|2020-03-13 21:10:...| 2021-11-11 16:23:50|\n|--0iUa4sNDFiZFrAd...|2010-09-13 21:43:...| 2014-04-12 23:04:47|\n|--30_8IhuyMHbSOcN...|2013-06-14 23:29:...| 2014-08-13 23:20:22|\n|--7PUidqRWpRSpXeb...|2011-02-15 17:12:...| 2015-09-27 13:18:32|\n|--7jw19RH9JKXgFoh...|2014-04-21 20:42:...| 2021-06-21 19:59:50|\n|--8IbOsAAxjKRoYsB...|2015-06-06 01:03:...| 2018-07-12 21:34:36|\n|--9osgUCSDUWUkoTL...|2015-06-13 02:00:...| 2019-01-01 01:49:40|\n|--ARBQr1WMsTWiwOK...|2014-12-12 00:44:...| 2018-07-22 01:42:39|\n|--FWWsIwxRwuw9vIM...|2010-09-11 16:28:...| 2012-09-16 22:21:21|\n|--FcbSxK1AoEtEAxO...|2017-08-18 19:43:...| 2022-01-09 18:33:57|\n|--LC8cIrALInl2vyo...|2017-01-12 19:10:...| 2021-12-31 15:22:01|\n|--MbOh2O1pATkXa7x...|2013-04-21 01:52:...| 2017-12-02 19:57:32|\n|--N9yp3ZWqQIm7DqK...|2012-10-06 20:46:...| 2019-02-25 16:38:01|\n|--O3ip9NpXTKD4oBS...|2010-04-17 21:07:...| 2022-01-17 01:07:10|\n|--OS_I7dnABrXvRCC...| 2018-05-11 18:23:36| 2018-05-11 18:23:36|\n|--S43ruInmIsGrnnk...|2010-08-29 01:17:...| 2021-07-05 15:35:23|\n|--SJXpAa0E-GCp2sm...|2014-04-06 22:23:...| 2019-10-09 23:13:35|\n|--Sd93OFWITqDHifM...|2013-01-09 17:42:...| 2019-12-17 02:01:15|\n|--ZVrH2X2QXBFdCil...|2010-08-12 18:21:...| 2017-07-15 16:22:04|\n|--ZWv8kGlM2YL58uK...|2010-10-13 18:41:...| 2016-05-15 20:01:59|\n+--------------------+--------------------+--------------------+\nonly showing top 20 rows\n\n"
     ]
    }
   ],
   "source": [
    "df_checkin = df['checkin'].withColumn(\"last_date\", F.element_at(F.split(F.col('date'), ','), -1))\n",
    "df['checkin'] = df_checkin\n",
    "df['checkin'].show()"
   ]
  },
  {
   "cell_type": "markdown",
   "metadata": {
    "application/vnd.databricks.v1+cell": {
     "cellMetadata": {},
     "inputWidgets": {},
     "nuid": "32e6ef21-849f-445a-b47b-c480ec9f8186",
     "showTitle": false,
     "title": ""
    }
   },
   "source": [
    "# Persist into parquet file on dbfs"
   ]
  },
  {
   "cell_type": "code",
   "execution_count": 0,
   "metadata": {
    "application/vnd.databricks.v1+cell": {
     "cellMetadata": {
      "byteLimit": 2048000,
      "rowLimit": 10000
     },
     "inputWidgets": {},
     "nuid": "80d2bc87-dab8-4ce7-ba99-858b2a846db7",
     "showTitle": false,
     "title": ""
    }
   },
   "outputs": [
    {
     "output_type": "display_data",
     "data": {
      "text/html": [
       "<style scoped>\n",
       "  .table-result-container {\n",
       "    max-height: 300px;\n",
       "    overflow: auto;\n",
       "  }\n",
       "  table, th, td {\n",
       "    border: 1px solid black;\n",
       "    border-collapse: collapse;\n",
       "  }\n",
       "  th, td {\n",
       "    padding: 5px;\n",
       "  }\n",
       "  th {\n",
       "    text-align: left;\n",
       "  }\n",
       "</style><div class='table-result-container'><table class='table-result'><thead style='background-color: white'><tr><th>path</th><th>name</th><th>size</th><th>modificationTime</th></tr></thead><tbody><tr><td>dbfs:/FileStore/tables/</td><td>tables/</td><td>0</td><td>1688848707000</td></tr><tr><td>dbfs:/FileStore/yelp_data/</td><td>yelp_data/</td><td>0</td><td>1688975443000</td></tr><tr><td>dbfs:/FileStore/yelp_data_parquet/</td><td>yelp_data_parquet/</td><td>0</td><td>1689042171000</td></tr><tr><td>dbfs:/FileStore/yelp_dataset/</td><td>yelp_dataset/</td><td>0</td><td>1688970415000</td></tr></tbody></table></div>"
      ]
     },
     "metadata": {
      "application/vnd.databricks.v1+output": {
       "addedWidgets": {},
       "aggData": [],
       "aggError": "",
       "aggOverflow": false,
       "aggSchema": [],
       "aggSeriesLimitReached": false,
       "aggType": "",
       "arguments": {},
       "columnCustomDisplayInfos": {},
       "data": [
        [
         "dbfs:/FileStore/tables/",
         "tables/",
         0,
         1688848707000
        ],
        [
         "dbfs:/FileStore/yelp_data/",
         "yelp_data/",
         0,
         1688975443000
        ],
        [
         "dbfs:/FileStore/yelp_data_parquet/",
         "yelp_data_parquet/",
         0,
         1689042171000
        ],
        [
         "dbfs:/FileStore/yelp_dataset/",
         "yelp_dataset/",
         0,
         1688970415000
        ]
       ],
       "datasetInfos": [],
       "dbfsResultPath": null,
       "isJsonSchema": true,
       "metadata": {},
       "overflow": false,
       "plotOptions": {
        "customPlotOptions": {},
        "displayType": "table",
        "pivotAggregation": null,
        "pivotColumns": null,
        "xColumns": null,
        "yColumns": null
       },
       "removedWidgets": [],
       "schema": [
        {
         "metadata": "{}",
         "name": "path",
         "type": "\"string\""
        },
        {
         "metadata": "{}",
         "name": "name",
         "type": "\"string\""
        },
        {
         "metadata": "{}",
         "name": "size",
         "type": "\"long\""
        },
        {
         "metadata": "{}",
         "name": "modificationTime",
         "type": "\"long\""
        }
       ],
       "type": "table"
      }
     },
     "output_type": "display_data"
    }
   ],
   "source": [
    "display(dbutils.fs.ls('./FileStore'))"
   ]
  },
  {
   "cell_type": "code",
   "execution_count": 0,
   "metadata": {
    "application/vnd.databricks.v1+cell": {
     "cellMetadata": {
      "byteLimit": 2048000,
      "rowLimit": 10000
     },
     "inputWidgets": {},
     "nuid": "272730ff-168e-482f-9fbc-24bcc596d25c",
     "showTitle": false,
     "title": ""
    }
   },
   "outputs": [
    {
     "output_type": "execute_result",
     "data": {
      "text/plain": [
       "True"
      ]
     },
     "execution_count": 25,
     "metadata": {},
     "output_type": "execute_result"
    }
   ],
   "source": [
    "dbutils.fs.mkdirs('/FileStore/yelp_data_parquet/')"
   ]
  },
  {
   "cell_type": "code",
   "execution_count": 0,
   "metadata": {
    "application/vnd.databricks.v1+cell": {
     "cellMetadata": {
      "byteLimit": 2048000,
      "rowLimit": 10000
     },
     "inputWidgets": {},
     "nuid": "7d9d4eb9-cf0f-4f40-8127-01cf04e12df5",
     "showTitle": false,
     "title": ""
    }
   },
   "outputs": [
    {
     "output_type": "stream",
     "name": "stdout",
     "output_type": "stream",
     "text": [
      "dict_keys(['business', 'checkin', 'review', 'tip', 'user', 'business_cat_exploded', 'business_attributes_flatten', 'user_friends'])\n------------------ [ df_business ] -----------------\n---------- [ dbfs:/FileStore/tables/yelp_PersistedParquet_business ] ------------\n+--------------------+--------------------+--------------+--------------------+-------+-------------+--------------+--------------------+-----------+------------+-----+-----+\n|             address|         business_id|          city|               hours|is_open|     latitude|     longitude|                name|postal_code|review_count|stars|state|\n+--------------------+--------------------+--------------+--------------------+-------+-------------+--------------+--------------------+-----------+------------+-----+-----+\n|1616 Chapala St, ...|Pns2l4eNsfO8kk83d...| Santa Barbara|                null|      0|   34.4266787|  -119.7111968|Abby Rappoport, L...|      93101|           7|  5.0|   CA|\n|87 Grasso Plaza S...|mpf3x-BjTdTEA3yCZ...|        Affton|{8:0-18:30, 0:0-0...|      1|    38.551126|    -90.335695|       The UPS Store|      63123|          15|  3.0|   MO|\n|5255 E Broadway Blvd|tUFrWirKiKi_TAnsV...|        Tucson|{8:0-23:0, 8:0-22...|      0|    32.223236|   -110.880452|              Target|      85711|          22|  3.5|   AZ|\n|         935 Race St|MTSW4McQd7CbVtyjq...|  Philadelphia|{7:0-21:0, 7:0-20...|      1|   39.9555052|   -75.1555641|  St Honore Pastries|      19107|          80|  4.0|   PA|\n|       101 Walnut St|mWMc6_wTdE0EUBKIG...|    Green Lane|{12:0-22:0, null,...|      1|   40.3381827|   -75.4716585|Perkiomen Valley ...|      18054|          13|  4.5|   PA|\n|       615 S Main St|CF33F8-E6oudUQ46H...|  Ashland City|{9:0-0:0, 0:0-0:0...|      1|    36.269593|    -87.058943|      Sonic Drive-In|      37015|           6|  2.0|   TN|\n|8522 Eager Road, ...|n_0UpQx1hsNbnPUSl...|     Brentwood|{10:0-18:0, 0:0-0...|      1|    38.627695|    -90.340465|     Famous Footwear|      63144|          13|  2.5|   MO|\n|  400 Pasadena Ave S|qkRM_2X51Yqxk3btl...|St. Petersburg|{9:0-17:0, 9:0-17...|      1|     27.76659|    -82.732983|      Temple Beth-El|      33707|           5|  3.5|   FL|\n|   8025 Mackenzie Rd|k0hlBqXX-Bt0vf1op...|        Affton|                null|      0|   38.5651648|   -90.3210868|Tsevi's Pub And G...|      63123|          19|  3.0|   MO|\n| 2312 Dickerson Pike|bBDDEgkFA1Otx9Lfe...|     Nashville|{6:0-16:0, 0:0-0:...|      1|   36.2081024|   -86.7681696|      Sonic Drive-In|      37207|          10|  1.5|   TN|\n|21705 Village Lak...|UJsufbvfyfONHeWdv...| Land O' Lakes|{9:30-21:30, 9:30...|      1|28.1904587953|-82.4573802199|           Marshalls|      34639|           6|  3.5|   FL|\n|                    |eEOYSgkmpB90uNA7l...|     Tampa Bay|{11:0-14:0, 11:0-...|      1|   27.9552692|   -82.4563199|Vietnamese Food T...|      33602|          10|  4.0|   FL|\n|        8901 US 31 S|il_Ro8jwPlHresjw9...|  Indianapolis|{6:0-22:0, 6:0-22...|      1|39.6371332838| -86.127217412|             Denny's|      46227|          28|  2.5|   IN|\n|   15 N Missouri Ave|jaxMSoInw8Poo3XeM...|    Clearwater|{null, 7:30-15:30...|      1|    27.966235|    -82.787412|        Adams Dental|      33755|          10|  5.0|   FL|\n|       2575 E Bay Dr|0bPLkL0QhhPO5kt1_...|         Largo|{10:0-20:0, 10:0-...|      0|   27.9161159|   -82.7604608|Zio's Italian Market|      33771|         100|  4.5|   FL|\n|         205 Race St|MUTTqe8uqyMdBl186...|  Philadelphia|{13:30-23:0, null...|      1|    39.953949|   -75.1432262|            Tuna Bar|      19106|         245|  4.0|   PA|\n|     625 N Stone Ave|rBmpy_Y1UbBx8ggHl...|        Tucson|{8:0-17:0, 0:0-0:...|      1|   32.2298719|  -110.9723419|Arizona Truck Out...|      85705|          10|  4.5|   AZ|\n|        712 Adams St|M0XSSHqrASOnhgbWD...|   New Orleans|{10:0-19:0, 10:0-...|      1|29.9414679565| -90.129952757|      Herb Import Co|      70118|           5|  4.0|   LA|\n|     1241 Airline Dr|8wGISYjYkE2tSqn3c...|        Kenner|{8:0-17:0, 8:0-17...|      1|    29.981183|   -90.2540123|    Nifty Car Rental|      70062|          14|  3.5|   LA|\n|       1224 South St|ROeacJQwBeh05Rqg7...|  Philadelphia|{11:30-20:30, 11:...|      1|    39.943223|    -75.162568|                 BAP|      19147|         205|  4.5|   PA|\n+--------------------+--------------------+--------------+--------------------+-------+-------------+--------------+--------------------+-----------+------------+-----+-----+\nonly showing top 20 rows\n\n------------------ [ df_checkin ] -----------------\n---------- [ dbfs:/FileStore/tables/yelp_PersistedParquet_checkin ] ------------\n+--------------------+--------------------+--------------------+\n|         business_id|                date|           last_date|\n+--------------------+--------------------+--------------------+\n|---kPU91CF4Lq2-Wl...|2020-03-13 21:10:...| 2021-11-11 16:23:50|\n|--0iUa4sNDFiZFrAd...|2010-09-13 21:43:...| 2014-04-12 23:04:47|\n|--30_8IhuyMHbSOcN...|2013-06-14 23:29:...| 2014-08-13 23:20:22|\n|--7PUidqRWpRSpXeb...|2011-02-15 17:12:...| 2015-09-27 13:18:32|\n|--7jw19RH9JKXgFoh...|2014-04-21 20:42:...| 2021-06-21 19:59:50|\n|--8IbOsAAxjKRoYsB...|2015-06-06 01:03:...| 2018-07-12 21:34:36|\n|--9osgUCSDUWUkoTL...|2015-06-13 02:00:...| 2019-01-01 01:49:40|\n|--ARBQr1WMsTWiwOK...|2014-12-12 00:44:...| 2018-07-22 01:42:39|\n|--FWWsIwxRwuw9vIM...|2010-09-11 16:28:...| 2012-09-16 22:21:21|\n|--FcbSxK1AoEtEAxO...|2017-08-18 19:43:...| 2022-01-09 18:33:57|\n|--LC8cIrALInl2vyo...|2017-01-12 19:10:...| 2021-12-31 15:22:01|\n|--MbOh2O1pATkXa7x...|2013-04-21 01:52:...| 2017-12-02 19:57:32|\n|--N9yp3ZWqQIm7DqK...|2012-10-06 20:46:...| 2019-02-25 16:38:01|\n|--O3ip9NpXTKD4oBS...|2010-04-17 21:07:...| 2022-01-17 01:07:10|\n|--OS_I7dnABrXvRCC...| 2018-05-11 18:23:36| 2018-05-11 18:23:36|\n|--S43ruInmIsGrnnk...|2010-08-29 01:17:...| 2021-07-05 15:35:23|\n|--SJXpAa0E-GCp2sm...|2014-04-06 22:23:...| 2019-10-09 23:13:35|\n|--Sd93OFWITqDHifM...|2013-01-09 17:42:...| 2019-12-17 02:01:15|\n|--ZVrH2X2QXBFdCil...|2010-08-12 18:21:...| 2017-07-15 16:22:04|\n|--ZWv8kGlM2YL58uK...|2010-10-13 18:41:...| 2016-05-15 20:01:59|\n+--------------------+--------------------+--------------------+\nonly showing top 20 rows\n\n------------------ [ df_review ] -----------------\n---------- [ dbfs:/FileStore/tables/yelp_PersistedParquet_review ] ------------\n+--------------------+----+-------------------+-----+--------------------+-----+--------------------+------+--------------------+\n|         business_id|cool|               date|funny|           review_id|stars|                text|useful|             user_id|\n+--------------------+----+-------------------+-----+--------------------+-----+--------------------+------+--------------------+\n|XQfwVwDr-v0ZS3_Cb...|   0|2018-07-07 22:09:11|    0|KU_O5udG6zpxOg-Vc...|  3.0|If you decide to ...|     0|mh_-eMZ6K5RLWhZyI...|\n|7ATYjTIgM3jUlt4UM...|   1|2012-01-03 15:28:18|    0|BiTunyQ73aT9WBnpR...|  5.0|I've taken a lot ...|     1|OyoGAe7OKpv6SyGZT...|\n|YjUWPpI6HXG530lwP...|   0|2014-02-05 20:30:30|    0|saUsX_uimxRlCVr67...|  3.0|Family diner. Had...|     0|8g_iMtfSiwikVnbP2...|\n|kxX2SOes4o-D3ZQBk...|   1|2015-01-04 00:01:03|    0|AqPFMleE6RsU23_au...|  5.0|Wow!  Yummy, diff...|     1|_7bHUi9Uuf5__HHc_...|\n|e4Vwtrqf-wpJfwesg...|   1|2017-01-14 20:54:15|    0|Sx8TMOWLNuJBWer-0...|  4.0|Cute interior and...|     1|bcjbaE6dDog4jkNY9...|\n|04UD14gamNjLY0IDY...|   1|2015-09-23 23:10:31|    2|JrIxlS1TzJ-iCu79u...|  1.0|I am a long term ...|     1|eUta8W_HdHMXPzLBB...|\n|gmjsEdUsKpj9Xxu6p...|   0|2015-01-03 23:21:18|    2|6AxgBCNX_PNTOxmbR...|  5.0|Loved this tour! ...|     0|r3zeYsv1XFBRA4dJp...|\n|LHSTtnW3YHCeUkRDG...|   0|2015-08-07 02:29:16|    0|_ZeMknuYdlQcUqng_...|  5.0|Amazingly amazing...|     2|yfFzsLmaWF2d4Sr0U...|\n|B5XSoSG3SfvQGtKEG...|   0|2016-03-30 22:46:33|    1|ZKvDG2sBvHVdF5oBN...|  3.0|This easter inste...|     1|wSTuiTk-sKNdcFypr...|\n|gebiRewfieSdtt17P...|   0|2016-07-25 07:31:06|    0|pUycOfUwM8vqX7KjR...|  3.0|Had a party of 6 ...|     0|59MxRhNVhU9MYndMk...|\n|uMvVYRgGNXf5boolA...|   0|2015-06-21 14:48:06|    0|rGQRf8UafX7OTlMNN...|  5.0|My experience wit...|     2|1WHRWwQmZOZDAhp2Q...|\n|EQ-TZ2eeD_E0BHuvo...|   0|2015-08-19 14:31:45|    0|l3Wk_mvAog6XANIuG...|  4.0|Locals recommende...|     0|ZbqSHbgCjzVAqaa7N...|\n|lj-E32x9_FA7GmUrB...|   0|2014-06-27 22:44:01|    0|XW_LfMv0fV21l9c6x...|  4.0|Love going here f...|     0|9OAtfnWag-ajVxRbU...|\n|RZtGWDLCAtuipwaZ-...|   0|2009-10-14 19:57:14|    0|8JFGBuHMoiNDyfcxu...|  4.0|Good food--loved ...|     0|smOvOajNG0lS4Pq7d...|\n|otQS34_MymijPTdNB...|   0|2011-10-27 17:12:05|    2|UBp0zWyH60Hmw6Fsa...|  4.0|The bun makes the...|     0|4Uh27DgGzsp6PqrH9...|\n|BVndHaLihEYbr76Z0...|   0|2014-10-11 16:22:06|    0|OAhBYw8IQ6wlfw1ow...|  5.0|Great place for b...|     0|1C2lxzUo1Hyye4RFI...|\n|YtSqYv1Q_pOltsVPS...|   0|2013-06-24 11:21:25|    0|oyaMhzBSwfGgemSGu...|  5.0|Tremendous servic...|     0|Dd1jQj7S-BFGqRbAp...|\n|rBdG_23USc7DletfZ...|   0|2014-08-10 19:41:43|    0|LnGZB0fjfgeVDVz5I...|  4.0|The hubby and I h...|     1|j2wlzrntrbKwyOcOi...|\n|CLEWowfkj-wKYJlQD...|   1|2016-03-07 00:02:18|    0|u2vzZaOqJ2feRshaa...|  5.0|I go to blow bar ...|     2|NDZvyYHTUWWu-kqgQ...|\n|eFvzHawVJofxSnD7T...|   0|2014-11-12 15:30:27|    0|Xs8Z8lmKkosqW5mw_...|  5.0|My absolute favor...|     0|IQsF3Rc6IgCzjVV9D...|\n+--------------------+----+-------------------+-----+--------------------+-----+--------------------+------+--------------------+\nonly showing top 20 rows\n\n------------------ [ df_tip ] -----------------\n---------- [ dbfs:/FileStore/tables/yelp_PersistedParquet_tip ] ------------\n+--------------------+----------------+-------------------+--------------------+--------------------+-----------+-------------------+-------------------+----------+\n|         business_id|compliment_count|               date|                text|             user_id|tip_row_num|     start_datetime|       end_datetime|is_current|\n+--------------------+----------------+-------------------+--------------------+--------------------+-----------+-------------------+-------------------+----------+\n|---kPU91CF4Lq2-Wl...|               0|2021-09-23 16:58:31|Great food & serv...|St3aCytjxiMN-5OvF...|          1|2021-09-23 16:58:31|9999-12-31 23:59:59|      true|\n|--ARBQr1WMsTWiwOK...|               0|2015-08-15 00:22:09|Very chill & nice...|I2XpWCHAom1JRyHXZ...|          1|2015-08-15 00:22:09|9999-12-31 23:59:59|      true|\n|--MbOh2O1pATkXa7x...|               0|2013-05-02 04:03:35|they have fat fre...|qi6OJ4D1e_T_AUQGH...|          1|2013-05-02 04:03:35|2013-05-18 03:40:29|     false|\n|--MbOh2O1pATkXa7x...|               0|2013-05-18 03:40:30|They switch diffe...|qi6OJ4D1e_T_AUQGH...|          2|2013-05-18 03:40:30|2013-05-20 03:06:49|     false|\n|--MbOh2O1pATkXa7x...|               0|2013-05-20 03:06:50|They have a java ...|qi6OJ4D1e_T_AUQGH...|          3|2013-05-20 03:06:50|9999-12-31 23:59:59|      true|\n|--O3ip9NpXTKD4oBS...|               0|2014-01-25 22:56:41|Parking is a disa...|HH38aDvodVQ9kfayj...|          1|2014-01-25 22:56:41|9999-12-31 23:59:59|      true|\n|--O3ip9NpXTKD4oBS...|               0|2014-08-10 21:06:51|Peaceful park wit...|hobg0JjbE7PWpSjoz...|          1|2014-08-10 21:06:51|9999-12-31 23:59:59|      true|\n|--O3ip9NpXTKD4oBS...|               0|2010-08-07 02:00:36|Mercado with Hope...|tIJy3EAkaFgajlAHU...|          1|2010-08-07 02:00:36|2010-08-12 17:48:34|     false|\n|--O3ip9NpXTKD4oBS...|               0|2010-08-12 17:48:35|         Kids world.|tIJy3EAkaFgajlAHU...|          2|2010-08-12 17:48:35|9999-12-31 23:59:59|      true|\n|--epgcb7xHGuJ-4PU...|               0|2014-10-01 16:10:31|You can chain you...|2QAMAAoo-X30fRkDU...|          1|2014-10-01 16:10:31|9999-12-31 23:59:59|      true|\n|--epgcb7xHGuJ-4PU...|               0|2014-11-06 15:09:11|Fast, friendly se...|NjRwiQIkI66_axVGD...|          1|2014-11-06 15:09:11|9999-12-31 23:59:59|      true|\n|--onnLZrsCazmcy2P...|               0|2011-12-18 19:36:04|Salad bar is the ...|DGZTz4K3czUM0OoKG...|          1|2011-12-18 19:36:04|9999-12-31 23:59:59|      true|\n|--pDYWb4DzqKdAdrP...|               0|2014-12-21 19:20:08|Great wine select...|MYw6zsHcv4XJL3hZ4...|          1|2014-12-21 19:20:08|9999-12-31 23:59:59|      true|\n|--pDYWb4DzqKdAdrP...|               0|2013-03-25 19:31:07|Wonderful selecti...|ThkRYqLyPL9pdethC...|          1|2013-03-25 19:31:07|9999-12-31 23:59:59|      true|\n|--rS-rnOIZxoiDA8y...|               0|2021-08-21 15:19:33|Parking is locate...|k5LdONRIZLJpkkJ-x...|          1|2021-08-21 15:19:33|9999-12-31 23:59:59|      true|\n|--sXnWH9Xm6_NvIjy...|               0|2013-10-03 11:13:28|Nice place! Just ...|ZqYuVoXpDR5Kr8zCq...|          1|2013-10-03 11:13:28|9999-12-31 23:59:59|      true|\n|--sXnWH9Xm6_NvIjy...|               0|2017-11-03 12:00:02|Get the Philadelp...|is4YnvsJVddBI7UwT...|          1|2017-11-03 12:00:02|9999-12-31 23:59:59|      true|\n|--zb12mw2YK-7j6Ua...|               0|2021-08-15 00:08:40|Excellent tamales...|jijtr5W3zWid8jgb1...|          1|2021-08-15 00:08:40|9999-12-31 23:59:59|      true|\n|-09Oc2D14vRnmirPh...|               0|2013-02-23 16:42:09|            Great...|eL40tFd-zR3doqgoO...|          1|2013-02-23 16:42:09|9999-12-31 23:59:59|      true|\n|-09Oc2D14vRnmirPh...|               0|2014-02-27 21:35:04|Be mindful of whe...|qBx5qpkh7q31gteUT...|          1|2014-02-27 21:35:04|9999-12-31 23:59:59|      true|\n+--------------------+----------------+-------------------+--------------------+--------------------+-----------+-------------------+-------------------+----------+\nonly showing top 20 rows\n\n------------------ [ df_user ] -----------------\n---------- [ dbfs:/FileStore/tables/yelp_PersistedParquet_user ] ------------\n+-------------+---------------+---------------+----------------+--------------+---------------+---------------+---------------+-----------------+----------------+------------------+-----------------+-----+--------------------+----+--------------------+-----+---------+------------+------+--------------------+-------------------+\n|average_stars|compliment_cool|compliment_cute|compliment_funny|compliment_hot|compliment_list|compliment_more|compliment_note|compliment_photos|compliment_plain|compliment_profile|compliment_writer| cool|               elite|fans|             friends|funny|     name|review_count|useful|             user_id|      yelping_since|\n+-------------+---------------+---------------+----------------+--------------+---------------+---------------+---------------+-----------------+----------------+------------------+-----------------+-----+--------------------+----+--------------------+-----+---------+------------+------+--------------------+-------------------+\n|         3.91|            467|             56|             467|           250|             18|             65|            232|              180|             844|                55|              239| 5994|                2007| 267|NSCy54eWehBJyZdG2...| 1259|   Walker|         585|  7217|qVc8ODYU5SZjKXVBg...|2007-01-25 16:47:26|\n|         3.74|           3131|            157|            3131|          1145|            251|            264|           1847|             1946|            7054|               184|             1521|27281|2009,2010,2011,20...|3138|ueRPE0CX75ePGMqOF...|13066|   Daniel|        4333| 43091|j14WgRoU_-2ZE1aw1...|2009-01-25 04:35:42|\n|         3.32|            119|             17|             119|            89|              3|             13|             66|               18|              96|                10|               35| 1003|2009,2010,2011,20...|  52|LuO3Bn4f3rlhyHIaN...| 1010|    Steph|         665|  2086|2WnXYQFK0hXEoTxPt...|2008-07-25 10:41:00|\n|         4.27|             26|              6|              26|            24|              2|              4|             12|                9|              16|                 1|               10|  299|      2009,2010,2011|  28|enx1vVPnfdNUdPho6...|  330|     Gwen|         224|   512|SZDeASXq7o05mMNLs...|2005-11-29 04:38:33|\n|         3.54|              0|              0|               0|             1|              0|              1|              1|                0|               1|                 0|                0|    7|                    |   1|PBK4q9KEEBHhFvSXC...|   15|    Karen|          79|    29|hA5lMy-EnncsH4JoR...|2007-01-05 19:40:59|\n|         3.85|           2543|            361|            2543|          1713|            147|            163|           1212|              323|            5696|               191|              815|11211|2006,2007,2008,20...|1357|xBDpTUbai0DXrvxCe...| 9940|     Jane|        1221| 14953|q_QQ5kBBwlCcbL1s4...|2005-03-14 20:26:35|\n|         2.75|              0|              0|               0|             0|              0|              0|              0|                0|               1|                 0|                0|    0|                    |   1|HDAQ74AEznP-YsMk1...|    1|      Rob|          12|     6|cxuxXkcihfCbqt5By...|2009-02-24 03:09:06|\n|         3.73|             12|              0|              12|             4|              0|              7|              8|                0|               6|                 2|                5|  143|                    |  23|y2GyxJF5VQWohxgw_...|  102|     Mike|         358|   399|E9kcWJdJUHuTKfQur...|2008-12-11 22:11:56|\n|         4.04|              5|              3|               5|             2|              0|              0|              3|                1|               4|                 0|                3|   46|                    |   7|tOQDlz36rI__SOsbL...|   40| Rachelle|          40|   109|lO1iq-f75hnPNZkTy...|2008-12-29 22:40:56|\n|          3.4|              3|              0|               3|             0|              0|              0|              1|                0|               6|                 0|                0|   23|                    |   4|gy5fWeSv3Gamuq9Ox...|   20|     John|         109|   154|AUi8MPWJ0mLkMfwbu...|2010-01-07 18:32:04|\n|          4.0|              0|              0|               0|             0|              0|              0|              0|                0|               0|                 0|                0|    1|                    |   1|Vq4Pc81l6MWTnc-h4...|    0|    Chris|           4|     1|iYzhPPqnrjJkg1JHZ...|2010-11-03 18:59:20|\n|         3.89|             36|              3|              36|            23|              5|              9|             31|                7|              41|                 1|               24|  573| 2009,2010,2011,2012|  31|6tbXpUIU6upoeqWND...|  487|     Ryan|         535|  1130|xoZvMJPDW6Q9pDAXI...|2009-05-27 06:12:10|\n|         4.51|              0|              0|               0|             4|              0|              0|              1|                0|               5|                 0|                1|   27|                    |   4|zkK6c9BcDyqreU0fq...|    3| Charlene|          37|    63|vVukUtqoLF5BvH_Vt...|2011-01-29 17:18:59|\n|         3.08|              0|              0|               0|             0|              0|              0|              0|                0|               0|                 0|                0|    0|                    |   0|f0mdrhyxVZ0TsFZD5...|    3|    Kenny|          11|    30|_crIokUeTCHVK_JVO...|2009-10-07 17:23:44|\n|         4.29|              2|              0|               2|             1|              0|              0|              1|                0|               0|                 0|                0|   13|                    |   1|piejMEdRkGB7-1aL4...|    3|   Teresa|           7|    18|1McG5Rn_UDkmlkZOr...|2009-05-26 16:11:11|\n|         3.75|            221|             22|             221|           212|             34|             17|             67|               17|             158|                17|               45| 1297|2007,2008,2009,20...|  44|j3MBGSLaXMlhLZNeA...| 1138|   Eugene|         682|  1819|SgiBkhXeqIKl1PlFp...|2006-08-25 16:47:25|\n|         4.15|              2|              0|               2|             0|              0|              1|              6|                0|               2|                 0|                1|   19|                    |   1|hJiJzw6obCmbGAfwr...|    2| Jennifer|          25|    29|fJZO_skqpnhk1kvom...|2008-07-14 16:01:36|\n|         3.84|             66|              0|              66|            15|              0|              1|             12|               12|              33|                 0|                1|   29|                    |   9|EPBLDry-ObheloH-N...|   29|  Ronskee|          37|    56|x7YtLnBW2dUnrrpwa...|2010-05-06 00:40:56|\n|         4.11|            808|             29|             808|          1020|             23|             79|            144|              723|             407|                68|              587| 4149|2010,2011,2012,20...| 131|dLts9bY66tXEFqYG0...| 3714|Catherine|         607|  4573|QF1Kuhs8iwLWANNZx...|2009-04-27 20:25:54|\n|          3.6|              0|              0|               0|             1|              0|              0|              2|                0|               4|                 0|                1|   44|                    |   4|Ynu2Z2L8Wv2fbTwQ_...|   52|       AJ|         133|   201|VcLRGCG_VbAo8MxOm...|2009-07-11 16:47:38|\n+-------------+---------------+---------------+----------------+--------------+---------------+---------------+---------------+-----------------+----------------+------------------+-----------------+-----+--------------------+----+--------------------+-----+---------+------------+------+--------------------+-------------------+\nonly showing top 20 rows\n\n------------------ [ df_business_cat_exploded ] -----------------\n---------- [ dbfs:/FileStore/tables/yelp_PersistedParquet_business_cat_exploded ] ------------\n+--------------------+--------------------+--------------------+\n|         business_id|          categories|            category|\n+--------------------+--------------------+--------------------+\n|Pns2l4eNsfO8kk83d...|Doctors, Traditio...|             Doctors|\n|Pns2l4eNsfO8kk83d...|Doctors, Traditio...| Traditional Chin...|\n|Pns2l4eNsfO8kk83d...|Doctors, Traditio...| Naturopathic/Hol...|\n|Pns2l4eNsfO8kk83d...|Doctors, Traditio...|         Acupuncture|\n|Pns2l4eNsfO8kk83d...|Doctors, Traditio...|    Health & Medical|\n|Pns2l4eNsfO8kk83d...|Doctors, Traditio...|       Nutritionists|\n|mpf3x-BjTdTEA3yCZ...|Shipping Centers,...|    Shipping Centers|\n|mpf3x-BjTdTEA3yCZ...|Shipping Centers,...|      Local Services|\n|mpf3x-BjTdTEA3yCZ...|Shipping Centers,...|            Notaries|\n|mpf3x-BjTdTEA3yCZ...|Shipping Centers,...|     Mailbox Centers|\n|mpf3x-BjTdTEA3yCZ...|Shipping Centers,...|   Printing Services|\n|tUFrWirKiKi_TAnsV...|Department Stores...|   Department Stores|\n|tUFrWirKiKi_TAnsV...|Department Stores...|            Shopping|\n|tUFrWirKiKi_TAnsV...|Department Stores...|             Fashion|\n|tUFrWirKiKi_TAnsV...|Department Stores...|       Home & Garden|\n|tUFrWirKiKi_TAnsV...|Department Stores...|         Electronics|\n|tUFrWirKiKi_TAnsV...|Department Stores...|    Furniture Stores|\n|MTSW4McQd7CbVtyjq...|Restaurants, Food...|         Restaurants|\n|MTSW4McQd7CbVtyjq...|Restaurants, Food...|                Food|\n|MTSW4McQd7CbVtyjq...|Restaurants, Food...|          Bubble Tea|\n+--------------------+--------------------+--------------------+\nonly showing top 20 rows\n\n------------------ [ df_business_attributes_flatten ] -----------------\n---------- [ dbfs:/FileStore/tables/yelp_PersistedParquet_business_attributes_flatten ] ------------\n+--------------------+--------------------------------+---------------------------+-----------------------+------------------------+--------------------+---------------------------+--------------------------+---------------------------+--------------------------------------+------------------------------------------+-------------------------------+---------------------------------+----------------------+-------------------------+-----------------------+-----------------------------------+---------------------------+-------------------------+------------------------------+---------------------------+---------------------------+---------------------------------+-------------------------+---------------------+---------------------+--------------------------+---------------------------+------------------------------+---------------------------------+-----------------------------------------+-----------------------------------+----------------------------------------+--------------------------------------+---------------------------------------+---------------------------------------+----------------------------------+-----------------------+------------------------------------+--------------------+\n|       business_id*1|attributes*1->AcceptsInsurance*2|attributes*1->AgesAllowed*2|attributes*1->Alcohol*2|attributes*1->Ambience*2|attributes*1->BYOB*2|attributes*1->BYOBCorkage*2|attributes*1\n\n*** WARNING: max output size exceeded, skipping output. ***\n\n                null|                                   null|                              null|                   null|                                null|                null|\n|tUFrWirKiKi_TAnsV...|                            null|                       null|                   null|                    null|                null|                       null|                      null|                       True|                                  null|                                      True|           {'garage': False,...|                            False|                 False|                    False|                   null|                               null|                      False|                     null|                          null|                       null|                       null|                             null|                    False|                False|                 null|                      null|                       null|                         False|                             null|                                     null|                              False|                                    null|                                     2|                                  False|                                   null|                             False|                   null|                                True|               u'no'|\n|MTSW4McQd7CbVtyjq...|                            null|                       null|                u'none'|                    null|                null|                       null|                      null|                       True|                                  null|                                     False|           {'garage': False,...|                            False|                  True|                     null|                   null|                               null|                       null|                     null|                          null|                       null|                       null|                             null|                     null|                 null|                 null|                      null|                       null|                         False|                             null|                                     null|                              False|                                    null|                                     1|                                   null|                                   null|                              True|                   null|                                null|             u'free'|\n|mWMc6_wTdE0EUBKIG...|                            null|                       null|                   null|                    null|                null|                       null|                      null|                       True|                                  null|                                      True|           {'garage': None, ...|                             null|                 False|                     null|                   null|                               null|                       null|                     null|                          null|                       True|                       null|                             null|                     null|                 null|                 null|                      null|                       null|                          null|                             null|                                     null|                               null|                                    null|                                  null|                                   null|                                   null|                              True|                   null|                                True|                null|\n|CF33F8-E6oudUQ46H...|                            null|                       null|                u'none'|                    None|                null|                       null|                      null|                      False|                                  null|                                      True|                           None|                            False|                 False|                    False|                   null|                               null|                      False|                     True|                          null|                       True|                       null|                             null|                    False|                 True|                 null|                      null|                       null|                          True|                        u'casual'|                                     null|                               True|                                    True|                                     1|                                  False|                                  False|                              True|                   null|                                True|               u'no'|\n|n_0UpQx1hsNbnPUSl...|                            null|                       null|                   null|                    null|                null|                       null|                      null|                       True|                                  null|                                      True|           {'garage': False,...|                             null|                  null|                     null|                   null|                               null|                       null|                     null|                          null|                       null|                       null|                             null|                     null|                 null|                 null|                      null|                       null|                          null|                             null|                                     null|                               null|                                    null|                                     2|                                   null|                                   null|                              null|                   null|                                null|                null|\n|k0hlBqXX-Bt0vf1op...|                            null|                       null|            u'full_bar'|    {'romantic': Fals...|                null|                       null|                      null|                       null|                                  null|                                      True|           {'garage': False,...|                             null|                  True|                     null|                   null|                               null|                       null|                     null|                          null|                       True|                       null|                             null|                     null|                 True|                 null|                u'average'|                       null|                          True|                        u'casual'|                                     null|                              False|                                    True|                                     1|                                  False|                                   null|                              True|                   null|                                null|             u'free'|\n|bBDDEgkFA1Otx9Lfe...|                            null|                       null|                u'none'|                    null|                null|                       null|                      null|                       null|                                  null|                                      True|           {'garage': False,...|                            False|                 False|                    False|                   null|                               null|                      False|                     True|                          null|                       True|                       null|                             null|                    False|                 True|                 null|                      null|                       null|                          True|                         'casual'|                                     null|                               True|                                   False|                                     1|                                  False|                                  False|                              True|                   null|                                True|               u'no'|\n|UJsufbvfyfONHeWdv...|                            null|                       null|                   null|                    null|                null|                       null|                      null|                       True|                                  null|                                      True|           {'garage': False,...|                             null|                  null|                     null|                   null|                               null|                       null|                     null|                          null|                       null|                       null|                             null|                     null|                 null|                 null|                      null|                       null|                          null|                             null|                                     null|                               null|                                    null|                                     2|                                   null|                                   null|                              null|                   null|                                null|                null|\n|eEOYSgkmpB90uNA7l...|                            null|                       null|                 'none'|    {'touristy': Fals...|                null|                       null|                      null|                       null|                                  null|                                      null|           {'garage': False,...|                             null|                  null|                     null|                   null|                               null|                       null|                     null|                          null|                       null|       {'dessert': False...|                             null|                     null|                 null|                 null|                      null|                       null|                          None|                             null|                                     null|                               null|                                    null|                                  null|                                  False|                                   null|                              null|                   null|                                null|                null|\n|il_Ro8jwPlHresjw9...|                            null|                       null|                 'none'|    {'touristy': None...|                null|                       null|                      null|                      False|                                  null|                                      True|           {'garage': None, ...|                             null|                  null|                     null|                   null|                               null|                       null|                     null|                          null|                       True|       {'dessert': False...|                             null|                     null|                 True|                 null|                      null|                       null|                         False|                         'casual'|                                     null|                               True|                                    True|                                     1|                                  False|                                   null|                              True|                   null|                                null|               u'no'|\n|jaxMSoInw8Poo3XeM...|                            null|                       null|                   null|                    null|                null|                       null|                      null|                       null|                                  null|                                      null|                           null|                             True|                  null|                     null|                   null|                               null|                       null|                     null|                          null|                       null|                       null|                             null|                     null|                 null|                 null|                      null|                       null|                          null|                             null|                                     null|                               null|                                    null|                                  null|                                   null|                                   null|                              null|                   null|                                null|                null|\n|0bPLkL0QhhPO5kt1_...|                            null|                       null|                u'none'|    {'romantic': Fals...|                null|                       null|                      null|                       True|                                 False|                                      True|           {'garage': False,...|                             null|                  True|                     null|                   null|                               null|                       null|                     null|                          null|                       True|       {'dessert': False...|                             null|                     null|                 True|                 null|                u'average'|                       null|                         False|                        u'casual'|                                     null|                               True|                                   False|                                     1|                                  False|                                  False|                              True|                   null|                                True|               u'no'|\n|MUTTqe8uqyMdBl186...|                            null|                       null|             'full_bar'|    {'touristy': Fals...|                null|                       null|                      null|                       null|                                  null|                                      True|           {u'valet': False,...|                             null|                  null|                     null|                   null|                               null|                      False|                     null|                          null|                      False|       {'dessert': True,...|                             null|                     True|                False|                 null|                u'average'|                       null|                          True|                         'casual'|                                     null|                               True|                                    True|                                     2|                                   True|                                   True|                              True|                   null|                                True|              'free'|\n|rBmpy_Y1UbBx8ggHl...|                            null|                       null|                   null|                    null|                null|                       null|                      null|                       null|                                  null|                                      True|                           null|                            False|                  null|                     null|                   null|                               null|                       null|                    False|                          null|                       null|                       null|                             null|                     null|                 null|                 null|                      null|                       null|                          null|                             null|                                     null|                               null|                                    null|                                  null|                                   null|                                   null|                              null|                   null|                                null|             u'free'|\n|M0XSSHqrASOnhgbWD...|                            null|                       null|                   null|                    null|                null|                       null|                      null|                       True|                                  null|                                      True|           {'garage': False,...|                             null|                  null|                     null|                   null|                               null|                       null|                     null|                          null|                       null|                       null|                             null|                     null|                 null|                 null|                      null|                       null|                          null|                             null|                                     null|                               null|                                    null|                                     2|                                   null|                                   null|                              null|                   null|                                null|                null|\n|ROeacJQwBeh05Rqg7...|                            null|                       null|                u'none'|    {'touristy': Fals...|                null|                       null|                      null|                       True|                                  null|                                      True|           {'garage': False,...|                             null|                  True|                     null|                   null|                               null|                       null|                     null|                          null|                       True|       {'dessert': False...|                             null|                     null|                 True|                 null|                  u'quiet'|                       null|                          None|                        u'casual'|                                     null|                               None|                                   False|                                     1|                                  False|                                   True|                              True|                   null|                                null|               u'no'|\n|WKMJwqnfZKsAae75R...|                            null|                       null|       u'beer_and_wine'|    {'romantic': Fals...|                null|                       null|                      null|                       null|                                  null|                                      null|           {'garage': False,...|                             null|                  True|                     null|                   null|                               null|                       null|                     null|                          null|                      False|                       null|                             null|                     null|                False|                 null|                u'average'|                       null|                         False|                        u'casual'|                                     null|                              False|                                    True|                                     2|                                  False|                                   null|                              True|                   null|                                null|             u'free'|\n|qhDdDeI3K4jy2Kyzw...|                            null|                       null|                   null|                    null|                null|                       null|                      null|                      False|                                  null|                                      True|           {'garage': False,...|                             null|                  null|                     null|                   null|                               null|                       null|                     null|                          null|                       null|                       null|                             null|                     null|                 null|                 null|                      null|                       null|                          null|                             null|                                     null|                               null|                                    null|                                     2|                                   null|                                   null|                              null|                   null|                                null|                null|\n+--------------------+--------------------------------+---------------------------+-----------------------+------------------------+--------------------+---------------------------+--------------------------+---------------------------+--------------------------------------+------------------------------------------+-------------------------------+---------------------------------+----------------------+-------------------------+-----------------------+-----------------------------------+---------------------------+-------------------------+------------------------------+---------------------------+---------------------------+---------------------------------+-------------------------+---------------------+---------------------+--------------------------+---------------------------+------------------------------+---------------------------------+-----------------------------------------+-----------------------------------+----------------------------------------+--------------------------------------+---------------------------------------+---------------------------------------+----------------------------------+-----------------------+------------------------------------+--------------------+\nonly showing top 20 rows\n\n------------------ [ df_user_friends ] -----------------\n---------- [ dbfs:/FileStore/tables/yelp_PersistedParquet_user_friends ] ------------\n+--------------------+--------------------+--------------------+\n|             user_id|             friends|              friend|\n+--------------------+--------------------+--------------------+\n|qVc8ODYU5SZjKXVBg...|NSCy54eWehBJyZdG2...|[NSCy54eWehBJyZdG...|\n|j14WgRoU_-2ZE1aw1...|ueRPE0CX75ePGMqOF...|[ueRPE0CX75ePGMqO...|\n|2WnXYQFK0hXEoTxPt...|LuO3Bn4f3rlhyHIaN...|[LuO3Bn4f3rlhyHIa...|\n|SZDeASXq7o05mMNLs...|enx1vVPnfdNUdPho6...|[enx1vVPnfdNUdPho...|\n|hA5lMy-EnncsH4JoR...|PBK4q9KEEBHhFvSXC...|[PBK4q9KEEBHhFvSX...|\n|q_QQ5kBBwlCcbL1s4...|xBDpTUbai0DXrvxCe...|[xBDpTUbai0DXrvxC...|\n|cxuxXkcihfCbqt5By...|HDAQ74AEznP-YsMk1...|[HDAQ74AEznP-YsMk...|\n|E9kcWJdJUHuTKfQur...|y2GyxJF5VQWohxgw_...|[y2GyxJF5VQWohxgw...|\n|lO1iq-f75hnPNZkTy...|tOQDlz36rI__SOsbL...|[tOQDlz36rI__SOsb...|\n|AUi8MPWJ0mLkMfwbu...|gy5fWeSv3Gamuq9Ox...|[gy5fWeSv3Gamuq9O...|\n|iYzhPPqnrjJkg1JHZ...|Vq4Pc81l6MWTnc-h4...|[Vq4Pc81l6MWTnc-h...|\n|xoZvMJPDW6Q9pDAXI...|6tbXpUIU6upoeqWND...|[6tbXpUIU6upoeqWN...|\n|vVukUtqoLF5BvH_Vt...|zkK6c9BcDyqreU0fq...|[zkK6c9BcDyqreU0f...|\n|_crIokUeTCHVK_JVO...|f0mdrhyxVZ0TsFZD5...|[f0mdrhyxVZ0TsFZD...|\n|1McG5Rn_UDkmlkZOr...|piejMEdRkGB7-1aL4...|[piejMEdRkGB7-1aL...|\n|SgiBkhXeqIKl1PlFp...|j3MBGSLaXMlhLZNeA...|[j3MBGSLaXMlhLZNe...|\n|fJZO_skqpnhk1kvom...|hJiJzw6obCmbGAfwr...|[hJiJzw6obCmbGAfw...|\n|x7YtLnBW2dUnrrpwa...|EPBLDry-ObheloH-N...|[EPBLDry-ObheloH-...|\n|QF1Kuhs8iwLWANNZx...|dLts9bY66tXEFqYG0...|[dLts9bY66tXEFqYG...|\n|VcLRGCG_VbAo8MxOm...|Ynu2Z2L8Wv2fbTwQ_...|[Ynu2Z2L8Wv2fbTwQ...|\n+--------------------+--------------------+--------------------+\nonly showing top 20 rows\n\n"
     ]
    }
   ],
   "source": [
    "print(df.keys())\n",
    "for df_name in df:\n",
    "    print(f'------------------ [ df_{df_name} ] -----------------')\n",
    "    persisted_file_path = f'dbfs:/FileStore/tables/yelp_PersistedParquet_{df_name}'\n",
    "    df[df_name].write.mode(\"overwrite\").parquet(persisted_file_path)\n",
    "    print(f'---------- [ {persisted_file_path} ] ------------')\n",
    "    df[df_name].show()"
   ]
  },
  {
   "cell_type": "code",
   "execution_count": 0,
   "metadata": {
    "application/vnd.databricks.v1+cell": {
     "cellMetadata": {
      "byteLimit": 2048000,
      "rowLimit": 10000
     },
     "inputWidgets": {},
     "nuid": "30af9777-2f40-4e4a-894b-ecf6a48ec46c",
     "showTitle": false,
     "title": ""
    }
   },
   "outputs": [
    {
     "output_type": "stream",
     "name": "stdout",
     "output_type": "stream",
     "text": [
      "DONE\n"
     ]
    }
   ],
   "source": [
    "print(\"DONE\")"
   ]
  },
  {
   "cell_type": "code",
   "execution_count": 0,
   "metadata": {
    "application/vnd.databricks.v1+cell": {
     "cellMetadata": {},
     "inputWidgets": {},
     "nuid": "bd9db97c-b851-426d-9263-74009b13f656",
     "showTitle": false,
     "title": ""
    }
   },
   "outputs": [],
   "source": []
  }
 ],
 "metadata": {
  "application/vnd.databricks.v1+notebook": {
   "dashboards": [],
   "language": "python",
   "notebookMetadata": {
    "mostRecentlyExecutedCommandWithImplicitDF": {
     "commandId": 2999965844086095,
     "dataframes": [
      "_sqldf"
     ]
    },
    "pythonIndentUnit": 4
   },
   "notebookName": "Project 1 Yelp Data 2023-07-10",
   "widgets": {}
  }
 },
 "nbformat": 4,
 "nbformat_minor": 0
}
